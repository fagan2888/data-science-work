{
 "cells": [
  {
   "cell_type": "code",
   "execution_count": 1,
   "metadata": {},
   "outputs": [
    {
     "name": "stderr",
     "output_type": "stream",
     "text": [
      "Using TensorFlow backend.\n",
      "100%|██████████| 40479/40479 [05:47<00:00, 116.46it/s]\n"
     ]
    },
    {
     "name": "stdout",
     "output_type": "stream",
     "text": [
      "(40479, 32, 32, 3)\n",
      "(40479, 17)\n"
     ]
    }
   ],
   "source": [
    "# from https://www.kaggle.com/anokas/simple-keras-starter\n",
    "\n",
    "import numpy as np # linear algebra\n",
    "import pandas as pd # data processing, CSV file I/O (e.g. pd.read_csv)\n",
    "import os\n",
    "\n",
    "import keras.backend as K\n",
    "\n",
    "import cv2\n",
    "from tqdm import tqdm\n",
    "\n",
    "x_train = []\n",
    "y_train = []\n",
    "\n",
    "df_train = pd.read_csv('/home/jeff/Downloads/data/amazon/train_v2.csv')\n",
    "\n",
    "flatten = lambda l: [item for sublist in l for item in sublist]\n",
    "labels = list(set(flatten([l.split(' ') for l in df_train['tags'].values])))\n",
    "\n",
    "label_map = {l: i for i, l in enumerate(labels)}\n",
    "inv_label_map = {i: l for l, i in label_map.items()}\n",
    "\n",
    "for f, tags in tqdm(df_train.values, miniters=1000):\n",
    "    img = cv2.imread('/home/jeff/Downloads/data/amazon/train-jpg/{}.jpg'.format(f))\n",
    "    targets = np.zeros(17)\n",
    "    for t in tags.split(' '):\n",
    "        targets[label_map[t]] = 1 \n",
    "    x_train.append(cv2.resize(img, (32, 32)))\n",
    "    y_train.append(targets)\n",
    "    \n",
    "y_train = np.array(y_train, np.uint8)\n",
    "x_train = np.array(x_train, np.float16) / 255.\n",
    "\n",
    "print(x_train.shape)\n",
    "print(y_train.shape)\n",
    "\n",
    "split = 30000\n",
    "split2 = 35000\n",
    "x_train, x_valid, x_test, y_train, y_valid, y_test = (\n",
    "    x_train[:split], x_train[split:split2], x_train[:split2],\n",
    "    y_train[:split], y_train[split:split2], y_train[:split2])"
   ]
  },
  {
   "cell_type": "code",
   "execution_count": 2,
   "metadata": {
    "collapsed": true
   },
   "outputs": [],
   "source": [
    "def fbeta(y_true, y_pred):\n",
    "    beta = 2\n",
    "    \n",
    "    tp = K.sum(K.round(y_true*y_pred))\n",
    "    fp = K.sum(K.round(K.clip(y_pred-y_true, 0, 1)))\n",
    "    fn = K.sum(K.round(K.clip(y_true-y_pred, 0, 1)))\n",
    "    \n",
    "    precision = tp / (tp + fp)\n",
    "    recall = tp / (tp + fn)\n",
    "    \n",
    "    beta_squared = beta ** 2\n",
    "    return (beta_squared + 1) * (precision * recall) / (beta_squared * precision + recall)"
   ]
  },
  {
   "cell_type": "code",
   "execution_count": 3,
   "metadata": {},
   "outputs": [
    {
     "name": "stdout",
     "output_type": "stream",
     "text": [
      "_________________________________________________________________\n",
      "Layer (type)                 Output Shape              Param #   \n",
      "=================================================================\n",
      "conv2d_1 (Conv2D)            (None, 30, 30, 32)        896       \n",
      "_________________________________________________________________\n",
      "conv2d_2 (Conv2D)            (None, 28, 28, 64)        18496     \n",
      "_________________________________________________________________\n",
      "max_pooling2d_1 (MaxPooling2 (None, 14, 14, 64)        0         \n",
      "_________________________________________________________________\n",
      "dropout_1 (Dropout)          (None, 14, 14, 64)        0         \n",
      "_________________________________________________________________\n",
      "flatten_1 (Flatten)          (None, 12544)             0         \n",
      "_________________________________________________________________\n",
      "dense_1 (Dense)              (None, 128)               1605760   \n",
      "_________________________________________________________________\n",
      "dropout_2 (Dropout)          (None, 128)               0         \n",
      "_________________________________________________________________\n",
      "dense_2 (Dense)              (None, 17)                2193      \n",
      "=================================================================\n",
      "Total params: 1,627,345\n",
      "Trainable params: 1,627,345\n",
      "Non-trainable params: 0\n",
      "_________________________________________________________________\n"
     ]
    }
   ],
   "source": [
    "from keras.models import Sequential\n",
    "from keras.layers import Dense, Dropout, Flatten\n",
    "from keras.layers import Conv2D, MaxPooling2D\n",
    "from keras.callbacks import EarlyStopping\n",
    "\n",
    "model = Sequential()\n",
    "model.add(Conv2D(32, kernel_size=(3, 3),\n",
    "                 activation='relu',\n",
    "                 input_shape=(32, 32, 3)))\n",
    "\n",
    "model.add(Conv2D(64, (3, 3), activation='relu'))\n",
    "model.add(MaxPooling2D(pool_size=(2, 2)))\n",
    "model.add(Dropout(0.25))\n",
    "model.add(Flatten())\n",
    "model.add(Dense(128, activation='relu'))\n",
    "model.add(Dropout(0.5))\n",
    "model.add(Dense(17, activation='sigmoid'))\n",
    "\n",
    "model.compile(loss='binary_crossentropy', # We NEED binary here, since categorical_crossentropy l1 norms the output before calculating loss.\n",
    "              optimizer='adam',\n",
    "              metrics=['accuracy', fbeta])\n",
    "model.summary()"
   ]
  },
  {
   "cell_type": "code",
   "execution_count": 4,
   "metadata": {},
   "outputs": [
    {
     "name": "stdout",
     "output_type": "stream",
     "text": [
      "Train on 30000 samples, validate on 5000 samples\n",
      "Epoch 1/100\n",
      "30000/30000 [==============================] - 14s - loss: 0.2573 - acc: 0.9021 - fbeta: 0.6271 - val_loss: 0.2034 - val_acc: 0.9182 - val_fbeta: 0.6366\n",
      "Epoch 2/100\n",
      "30000/30000 [==============================] - 8s - loss: 0.2018 - acc: 0.9203 - fbeta: 0.6797 - val_loss: 0.1805 - val_acc: 0.9276 - val_fbeta: 0.6925\n",
      "Epoch 3/100\n",
      "30000/30000 [==============================] - 8s - loss: 0.1894 - acc: 0.9255 - fbeta: 0.7047 - val_loss: 0.1722 - val_acc: 0.9319 - val_fbeta: 0.7083\n",
      "Epoch 4/100\n",
      "30000/30000 [==============================] - 8s - loss: 0.1814 - acc: 0.9285 - fbeta: 0.7181 - val_loss: 0.1656 - val_acc: 0.9334 - val_fbeta: 0.7323\n",
      "Epoch 5/100\n",
      "30000/30000 [==============================] - 8s - loss: 0.1760 - acc: 0.9307 - fbeta: 0.7281 - val_loss: 0.1650 - val_acc: 0.9339 - val_fbeta: 0.7461\n",
      "Epoch 6/100\n",
      "30000/30000 [==============================] - 8s - loss: 0.1724 - acc: 0.9323 - fbeta: 0.7353 - val_loss: 0.1615 - val_acc: 0.9356 - val_fbeta: 0.7318\n",
      "Epoch 7/100\n",
      "30000/30000 [==============================] - 8s - loss: 0.1684 - acc: 0.9338 - fbeta: 0.7416 - val_loss: 0.1543 - val_acc: 0.9380 - val_fbeta: 0.7508\n",
      "Epoch 8/100\n",
      "30000/30000 [==============================] - 8s - loss: 0.1665 - acc: 0.9344 - fbeta: 0.7441 - val_loss: 0.1536 - val_acc: 0.9384 - val_fbeta: 0.7578\n",
      "Epoch 9/100\n",
      "30000/30000 [==============================] - 8s - loss: 0.1637 - acc: 0.9353 - fbeta: 0.7472 - val_loss: 0.1573 - val_acc: 0.9363 - val_fbeta: 0.7337\n",
      "Epoch 10/100\n",
      "30000/30000 [==============================] - 8s - loss: 0.1604 - acc: 0.9366 - fbeta: 0.7522 - val_loss: 0.1533 - val_acc: 0.9379 - val_fbeta: 0.7549\n",
      "Epoch 11/100\n",
      "30000/30000 [==============================] - 8s - loss: 0.1582 - acc: 0.9370 - fbeta: 0.7542 - val_loss: 0.1509 - val_acc: 0.9396 - val_fbeta: 0.7609\n",
      "Epoch 12/100\n",
      "30000/30000 [==============================] - 8s - loss: 0.1567 - acc: 0.9378 - fbeta: 0.7566 - val_loss: 0.1472 - val_acc: 0.9402 - val_fbeta: 0.7659\n",
      "Epoch 13/100\n",
      "30000/30000 [==============================] - 8s - loss: 0.1548 - acc: 0.9387 - fbeta: 0.7604 - val_loss: 0.1459 - val_acc: 0.9412 - val_fbeta: 0.7672\n",
      "Epoch 14/100\n",
      "30000/30000 [==============================] - 8s - loss: 0.1526 - acc: 0.9395 - fbeta: 0.7633 - val_loss: 0.1452 - val_acc: 0.9416 - val_fbeta: 0.7614\n",
      "Epoch 15/100\n",
      "30000/30000 [==============================] - 8s - loss: 0.1523 - acc: 0.9392 - fbeta: 0.7620 - val_loss: 0.1452 - val_acc: 0.9417 - val_fbeta: 0.7665\n",
      "Epoch 16/100\n",
      "30000/30000 [==============================] - 8s - loss: 0.1483 - acc: 0.9412 - fbeta: 0.7701 - val_loss: 0.1470 - val_acc: 0.9414 - val_fbeta: 0.7519\n",
      "Epoch 17/100\n",
      "30000/30000 [==============================] - 8s - loss: 0.1466 - acc: 0.9411 - fbeta: 0.7707 - val_loss: 0.1439 - val_acc: 0.9428 - val_fbeta: 0.7806\n",
      "Epoch 18/100\n",
      "30000/30000 [==============================] - 8s - loss: 0.1448 - acc: 0.9418 - fbeta: 0.7733 - val_loss: 0.1435 - val_acc: 0.9432 - val_fbeta: 0.7820\n",
      "Epoch 19/100\n",
      "30000/30000 [==============================] - 8s - loss: 0.1433 - acc: 0.9426 - fbeta: 0.7761 - val_loss: 0.1384 - val_acc: 0.9443 - val_fbeta: 0.7746\n",
      "Epoch 20/100\n",
      "30000/30000 [==============================] - 8s - loss: 0.1435 - acc: 0.9428 - fbeta: 0.7763 - val_loss: 0.1422 - val_acc: 0.9435 - val_fbeta: 0.7854\n",
      "Epoch 21/100\n",
      "30000/30000 [==============================] - 8s - loss: 0.1401 - acc: 0.9435 - fbeta: 0.7797 - val_loss: 0.1432 - val_acc: 0.9435 - val_fbeta: 0.7729\n",
      "Epoch 22/100\n",
      "30000/30000 [==============================] - 8s - loss: 0.1378 - acc: 0.9441 - fbeta: 0.7833 - val_loss: 0.1420 - val_acc: 0.9443 - val_fbeta: 0.7819\n",
      "Epoch 23/100\n",
      "30000/30000 [==============================] - 8s - loss: 0.1375 - acc: 0.9443 - fbeta: 0.7837 - val_loss: 0.1420 - val_acc: 0.9449 - val_fbeta: 0.7755\n",
      "Epoch 24/100\n",
      "30000/30000 [==============================] - 8s - loss: 0.1354 - acc: 0.9451 - fbeta: 0.7863 - val_loss: 0.1381 - val_acc: 0.9451 - val_fbeta: 0.7885\n",
      "Epoch 25/100\n",
      "30000/30000 [==============================] - 9s - loss: 0.1346 - acc: 0.9451 - fbeta: 0.7868 - val_loss: 0.1391 - val_acc: 0.9456 - val_fbeta: 0.7859\n",
      "Epoch 26/100\n",
      "30000/30000 [==============================] - 9s - loss: 0.1317 - acc: 0.9465 - fbeta: 0.7929 - val_loss: 0.1398 - val_acc: 0.9440 - val_fbeta: 0.7800\n",
      "Epoch 27/100\n",
      "30000/30000 [==============================] - 8s - loss: 0.1312 - acc: 0.9467 - fbeta: 0.7927 - val_loss: 0.1384 - val_acc: 0.9464 - val_fbeta: 0.7882\n",
      "Epoch 28/100\n",
      "30000/30000 [==============================] - 8s - loss: 0.1300 - acc: 0.9469 - fbeta: 0.7951 - val_loss: 0.1380 - val_acc: 0.9459 - val_fbeta: 0.7830\n",
      "Epoch 29/100\n",
      "30000/30000 [==============================] - 8s - loss: 0.1278 - acc: 0.9477 - fbeta: 0.7970 - val_loss: 0.1398 - val_acc: 0.9451 - val_fbeta: 0.7985\n",
      "Epoch 30/100\n",
      "30000/30000 [==============================] - 8s - loss: 0.1275 - acc: 0.9480 - fbeta: 0.7987 - val_loss: 0.1385 - val_acc: 0.9459 - val_fbeta: 0.7829\n",
      "Epoch 31/100\n",
      "30000/30000 [==============================] - 8s - loss: 0.1251 - acc: 0.9485 - fbeta: 0.8016 - val_loss: 0.1402 - val_acc: 0.9456 - val_fbeta: 0.7798\n",
      "Epoch 32/100\n",
      "30000/30000 [==============================] - 8s - loss: 0.1238 - acc: 0.9490 - fbeta: 0.8029 - val_loss: 0.1426 - val_acc: 0.9457 - val_fbeta: 0.7792\n",
      "Epoch 33/100\n",
      "30000/30000 [==============================] - 8s - loss: 0.1232 - acc: 0.9489 - fbeta: 0.8026 - val_loss: 0.1415 - val_acc: 0.9458 - val_fbeta: 0.7909\n",
      "Epoch 34/100\n",
      "30000/30000 [==============================] - 8s - loss: 0.1221 - acc: 0.9495 - fbeta: 0.8065 - val_loss: 0.1425 - val_acc: 0.9471 - val_fbeta: 0.7893\n",
      "Epoch 35/100\n",
      "30000/30000 [==============================] - 8s - loss: 0.1210 - acc: 0.9498 - fbeta: 0.8068 - val_loss: 0.1391 - val_acc: 0.9470 - val_fbeta: 0.7948\n",
      "Epoch 36/100\n",
      "30000/30000 [==============================] - 8s - loss: 0.1181 - acc: 0.9510 - fbeta: 0.8121 - val_loss: 0.1411 - val_acc: 0.9458 - val_fbeta: 0.7888\n",
      "Epoch 37/100\n",
      "30000/30000 [==============================] - 8s - loss: 0.1185 - acc: 0.9506 - fbeta: 0.8107 - val_loss: 0.1408 - val_acc: 0.9469 - val_fbeta: 0.7950\n",
      "Epoch 38/100\n",
      "30000/30000 [==============================] - 8s - loss: 0.1162 - acc: 0.9518 - fbeta: 0.8160 - val_loss: 0.1441 - val_acc: 0.9470 - val_fbeta: 0.7947\n",
      "Epoch 39/100\n",
      "30000/30000 [==============================] - 8s - loss: 0.1151 - acc: 0.9519 - fbeta: 0.8165 - val_loss: 0.1435 - val_acc: 0.9461 - val_fbeta: 0.7908\n",
      "Epoch 00038: early stopping\n"
     ]
    },
    {
     "data": {
      "text/plain": [
       "<keras.callbacks.History at 0x7fb20e4676d8>"
      ]
     },
     "execution_count": 4,
     "metadata": {},
     "output_type": "execute_result"
    }
   ],
   "source": [
    "early_stopping = EarlyStopping(patience=10, verbose=1)\n",
    "\n",
    "model.fit(x_train, y_train,\n",
    "          batch_size=128,\n",
    "          epochs=100,\n",
    "          verbose=1,\n",
    "          callbacks=[early_stopping],\n",
    "          validation_data=(x_valid, y_valid))"
   ]
  },
  {
   "cell_type": "code",
   "execution_count": 5,
   "metadata": {
    "collapsed": true
   },
   "outputs": [],
   "source": [
    "model.save('/home/jeff/Downloads/data/amazon/model.h5')"
   ]
  },
  {
   "cell_type": "code",
   "execution_count": 6,
   "metadata": {
    "collapsed": true
   },
   "outputs": [],
   "source": [
    "from sklearn.metrics import fbeta_score\n",
    "\n",
    "def optimize_f2_thresholds(y, p, verbose=True, resolution=100):\n",
    "    def mf(x):\n",
    "        p2 = np.zeros_like(p)\n",
    "        for i in range(17):\n",
    "            p2[:, i] = (p[:, i] > x[i]).astype(np.int)\n",
    "        score = fbeta_score(y, p2, beta=2, average='samples')\n",
    "        return score\n",
    "\n",
    "    x = [0.2]*17\n",
    "    for i in range(17):\n",
    "        best_i2 = 0\n",
    "        best_score = 0\n",
    "        for i2 in range(resolution):\n",
    "            i2 /= resolution\n",
    "            x[i] = i2\n",
    "            score = mf(x)\n",
    "            if score > best_score:\n",
    "                best_i2 = i2\n",
    "                best_score = score\n",
    "            x[i] = best_i2\n",
    "        if verbose:\n",
    "            print(i, best_i2, best_score)\n",
    "\n",
    "    return x"
   ]
  },
  {
   "cell_type": "code",
   "execution_count": 7,
   "metadata": {
    "collapsed": true
   },
   "outputs": [],
   "source": [
    "y_train_preds = model.predict(x_train)\n",
    "y_valid_preds = model.predict(x_valid)"
   ]
  },
  {
   "cell_type": "code",
   "execution_count": 8,
   "metadata": {
    "scrolled": true
   },
   "outputs": [
    {
     "name": "stdout",
     "output_type": "stream",
     "text": [
      "0 0.14 0.877194024805\n",
      "1 0.12 0.87727937947\n",
      "2 0.11 0.877743546878\n",
      "3 0.04 0.877756722817\n",
      "4 0.09 0.878365986506\n",
      "5 0.16 0.878518896231\n",
      "6 0.1 0.878625935209\n",
      "7 0.12 0.879436866287\n",
      "8 0.09 0.879436866287\n",
      "9 0.15 0.879489252579\n"
     ]
    },
    {
     "name": "stderr",
     "output_type": "stream",
     "text": [
      "/usr/local/lib/python3.5/dist-packages/sklearn/metrics/classification.py:1113: UndefinedMetricWarning: F-score is ill-defined and being set to 0.0 in samples with no predicted labels.\n",
      "  'precision', 'predicted', average, warn_for)\n"
     ]
    },
    {
     "name": "stdout",
     "output_type": "stream",
     "text": [
      "10 0.22 0.879587686659\n",
      "11 0.21 0.879836393227\n",
      "12 0.09 0.879860878719\n",
      "13 0.07 0.879987943309\n",
      "14 0.22 0.880204006873\n",
      "15 0.18 0.880440165133\n",
      "16 0.16 0.880825499688\n"
     ]
    }
   ],
   "source": [
    "best_thresholds = optimize_f2_thresholds(y_valid, y_valid_preds)"
   ]
  },
  {
   "cell_type": "code",
   "execution_count": 9,
   "metadata": {},
   "outputs": [
    {
     "name": "stderr",
     "output_type": "stream",
     "text": [
      "100%|██████████| 40669/40669 [05:44<00:00, 118.03it/s]\n",
      "100%|██████████| 20522/20522 [02:41<00:00, 127.14it/s]\n"
     ]
    }
   ],
   "source": [
    "TEST_PATH = '/home/jeff/Downloads/data/amazon/test-jpg'\n",
    "TEST_PATH2 = '/home/jeff/Downloads/data/amazon/test-jpg-additional'\n",
    "OUTPUT_PATH = '/home/jeff/Downloads/data/amazon/predictions.csv'\n",
    "\n",
    "x_test_orig = []\n",
    "x_test_add = []\n",
    "\n",
    "for f in tqdm(os.listdir(TEST_PATH), miniters=1000):\n",
    "    img = cv2.imread('{}/{}'.format(TEST_PATH,f))\n",
    "    x_test_orig.append(cv2.resize(img, (32, 32)))\n",
    "for f in tqdm(os.listdir(TEST_PATH2), miniters=1000):\n",
    "    img = cv2.imread('{}/{}'.format(TEST_PATH2,f)) \n",
    "    x_test_add.append(cv2.resize(img, (32, 32)))"
   ]
  },
  {
   "cell_type": "code",
   "execution_count": 10,
   "metadata": {
    "collapsed": true
   },
   "outputs": [],
   "source": [
    "x_test_orig = np.array(x_test_orig, np.float16) / 255\n",
    "x_test_add = np.array(x_test_add, np.float16) / 255\n",
    "\n",
    "orig_predictions = model.predict(x_test_orig)\n",
    "add_predictions = model.predict(x_test_add)"
   ]
  },
  {
   "cell_type": "code",
   "execution_count": 11,
   "metadata": {
    "collapsed": true
   },
   "outputs": [],
   "source": [
    "def threshold_predictions(preds, thresholds):\n",
    "    thresh_preds = np.zeros_like(preds)\n",
    "    for i in range(preds.shape[1]):\n",
    "        thresh_preds[:,i] = preds[:,i] > thresholds[i]\n",
    "    return thresh_preds"
   ]
  },
  {
   "cell_type": "code",
   "execution_count": 12,
   "metadata": {},
   "outputs": [
    {
     "data": {
      "text/plain": [
       "0.91599796457901317"
      ]
     },
     "execution_count": 12,
     "metadata": {},
     "output_type": "execute_result"
    }
   ],
   "source": [
    "fbeta_score(y_train, threshold_predictions(y_train_preds, best_thresholds), beta=2, average='samples')"
   ]
  },
  {
   "cell_type": "code",
   "execution_count": 13,
   "metadata": {
    "collapsed": true
   },
   "outputs": [],
   "source": [
    "thresh_preds_orig = threshold_predictions(orig_predictions, best_thresholds)\n",
    "thresh_preds_add = threshold_predictions(add_predictions, best_thresholds)"
   ]
  },
  {
   "cell_type": "code",
   "execution_count": 14,
   "metadata": {},
   "outputs": [],
   "source": [
    "with open(OUTPUT_PATH, 'w') as output:\n",
    "    output.write('image_name,tags\\n')\n",
    "    for i,prediction in enumerate(thresh_preds_add):\n",
    "        label_str = ' '.join([inv_label_map[pos] for pos,per in enumerate(prediction) if per])\n",
    "        output.write('file_%d,%s\\n' % (i,label_str))\n",
    "    for i,prediction in enumerate(thresh_preds_orig):\n",
    "        label_str = ' '.join([inv_label_map[pos] for pos,per in enumerate(prediction) if per])\n",
    "        output.write('test_%d,%s\\n' % (i,label_str))"
   ]
  },
  {
   "cell_type": "code",
   "execution_count": 15,
   "metadata": {},
   "outputs": [
    {
     "name": "stdout",
     "output_type": "stream",
     "text": [
      "primary clear\n",
      "primary cultivation clear agriculture water road\n",
      "primary clear haze\n",
      "cloudy\n",
      "primary clear\n",
      "primary cultivation clear habitation agriculture road\n",
      "primary cultivation clear habitation agriculture road\n",
      "primary cultivation agriculture partly_cloudy\n",
      "primary cultivation agriculture partly_cloudy water\n",
      "primary clear\n"
     ]
    }
   ],
   "source": [
    "for i,prediction in enumerate(thresh_preds_orig[:10]):\n",
    "    label_str = ' '.join([inv_label_map[pos] for pos,per in enumerate(prediction) if per])\n",
    "    print(label_str)"
   ]
  },
  {
   "cell_type": "code",
   "execution_count": 16,
   "metadata": {},
   "outputs": [
    {
     "data": {
      "image/png": "[encoded data removed]",
      "text/plain": [
       "<matplotlib.figure.Figure at 0x7fb1a9ebcc50>"
      ]
     },
     "metadata": {},
     "output_type": "display_data"
    },
    {
     "data": {
      "image/png": "[encoded data removed]",
      "text/plain": [
       "<matplotlib.figure.Figure at 0x7fb1a9f1a0f0>"
      ]
     },
     "metadata": {},
     "output_type": "display_data"
    }
   ],
   "source": [
    "import seaborn as sns\n",
    "\n",
    "sns.plt.suptitle('Training Distribution of Tags')\n",
    "sns.barplot(np.sum(y_train, axis=0) / y_train.shape[0], labels)\n",
    "sns.plt.figure()\n",
    "\n",
    "sns.plt.suptitle('Test Distribution of Predicted Tags')\n",
    "sns.barplot(np.sum(np.concatenate([thresh_preds_orig, thresh_preds_add]), axis=0)\n",
    "            / (thresh_preds_orig.shape[0] + thresh_preds_add.shape[0]), labels)\n",
    "sns.plt.show()"
   ]
  }
 ],
 "metadata": {
  "kernelspec": {
   "display_name": "Python 3",
   "language": "python",
   "name": "python3"
  },
  "language_info": {
   "codemirror_mode": {
    "name": "ipython",
    "version": 3
   },
   "file_extension": ".py",
   "mimetype": "text/x-python",
   "name": "python",
   "nbconvert_exporter": "python",
   "pygments_lexer": "ipython3",
   "version": "3.5.2"
  }
 },
 "nbformat": 4,
 "nbformat_minor": 2
}
