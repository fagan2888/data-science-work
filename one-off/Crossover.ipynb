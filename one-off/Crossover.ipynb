{
 "cells": [
  {
   "cell_type": "code",
   "execution_count": 8,
   "metadata": {},
   "outputs": [
    {
     "name": "stdout",
     "output_type": "stream",
     "text": [
      "6 6.00 5.40\n",
      "7 5.00 5.00\n",
      "8 3.50 4.60\n",
      "10 5.50 5.00\n",
      "[Decimal('NaN'), Decimal('4.50'), Decimal('5.50'), Decimal('5.00'), Decimal('4.50'), Decimal('6.00'), Decimal('5.00'), Decimal('3.50'), Decimal('4.50'), Decimal('5.50')]\n",
      "[Decimal('NaN'), Decimal('NaN'), Decimal('NaN'), Decimal('NaN'), Decimal('4.80'), Decimal('5.40'), Decimal('5.00'), Decimal('4.60'), Decimal('4.80'), Decimal('5.00')]\n"
     ]
    }
   ],
   "source": [
    "#!/bin/python3\n",
    "\n",
    "import sys\n",
    "\n",
    "import math\n",
    "from decimal import *\n",
    "\n",
    "getcontext().prec = 30\n",
    "\n",
    "n = 10\n",
    "p = [4,5,6,4,5,7,3,4,5,6]\n",
    "stma_days = 2\n",
    "ltma_days = 5\n",
    "\n",
    "# compute moving averages\n",
    "stma = []\n",
    "ltma = []\n",
    "\n",
    "for i in range(n):\n",
    "    if i < stma_days-1:\n",
    "        stma.append(Decimal('NaN'))\n",
    "    else:\n",
    "        sum = 0\n",
    "        for j in range(i-stma_days+1, i+1):\n",
    "            sum += p[j]\n",
    "        stma.append((Decimal(sum) / stma_days).quantize(Decimal('0.01'), ROUND_HALF_UP))\n",
    "    \n",
    "    if i < ltma_days-1:\n",
    "        ltma.append(Decimal('NaN'))\n",
    "    else:  \n",
    "        sum = 0\n",
    "        for j in range(i-ltma_days+1, i+1):\n",
    "            sum += p[j]\n",
    "        ltma.append((Decimal(sum) / ltma_days).quantize(Decimal('0.01'), ROUND_HALF_UP))\n",
    "\n",
    "# detect and print crossovers\n",
    "for i in range(n):\n",
    "    if not math.isnan(stma[i]) and not math.isnan(stma[i-1]) and not math.isnan(ltma[i]) and not math.isnan(ltma[i-1]):\n",
    "        if ((stma[i-1] > ltma[i-1] and stma[i] <= ltma[i]) or\n",
    "            (stma[i-1] < ltma[i-1] and stma[i] >= ltma[i]) or\n",
    "            (stma[i-1] == ltma[i-1] and stma[i] != ltma[i])):\n",
    "            print(\"%d %.2f %.2f\" % (i+1, stma[i], ltma[i]))\n",
    "\n",
    "print(stma)\n",
    "print(ltma)"
   ]
  }
 ],
 "metadata": {
  "anaconda-cloud": {},
  "kernelspec": {
   "display_name": "Python 3",
   "language": "python",
   "name": "python3"
  },
  "language_info": {
   "codemirror_mode": {
    "name": "ipython",
    "version": 3
   },
   "file_extension": ".py",
   "mimetype": "text/x-python",
   "name": "python",
   "nbconvert_exporter": "python",
   "pygments_lexer": "ipython3",
   "version": "3.5.2"
  }
 },
 "nbformat": 4,
 "nbformat_minor": 1
}
