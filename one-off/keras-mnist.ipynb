{
 "cells": [
  {
   "cell_type": "code",
   "execution_count": 66,
   "metadata": {
    "collapsed": true
   },
   "outputs": [],
   "source": [
    "import pandas as pd\n",
    "from keras.models import Sequential\n",
    "from keras.layers import Dense, Dropout, Activation, Flatten\n",
    "from keras.layers.convolutional import Conv2D\n",
    "from keras.layers.pooling import MaxPooling2D\n",
    "from keras.utils import np_utils\n",
    "from keras.datasets import mnist\n",
    "\n",
    "train_df = pd.read_csv('~/Downloads/data/mnist/train.csv')\n",
    "y_train = train_df['label'].values\n",
    "X_train = train_df.drop('label', axis=1).values\n",
    "\n",
    "\n",
    "test_df = pd.read_csv('~/Downloads/data/mnist/test.csv')\n",
    "X_test = test_df.values\n",
    "\n",
    "X_train = X_train.reshape(X_train.shape[0], 28, 28, 1)\n",
    "X_test = X_test.reshape(X_test.shape[0], 28, 28, 1)\n",
    "X_train = X_train.astype('float32')\n",
    "X_test = X_test.astype('float32')\n",
    "X_train /= 255\n",
    "X_test /= 255\n",
    "Y_train = np_utils.to_categorical(y_train, 10)"
   ]
  },
  {
   "cell_type": "code",
   "execution_count": 67,
   "metadata": {
    "collapsed": true
   },
   "outputs": [],
   "source": [
    "model = Sequential()\n",
    "model.add(Conv2D(32, (3, 3), activation='relu', input_shape=(28,28,1)))\n",
    "model.add(MaxPooling2D(pool_size=(2,2)))\n",
    "model.add(Dropout(0.25))\n",
    "model.add(Flatten())\n",
    "model.add(Dense(128, activation='relu'))\n",
    "model.add(Dropout(0.5))\n",
    "model.add(Dense(10, activation='softmax'))\n",
    "model.compile(loss='categorical_crossentropy', optimizer='adam', metrics=['accuracy'])"
   ]
  },
  {
   "cell_type": "code",
   "execution_count": 68,
   "metadata": {},
   "outputs": [
    {
     "name": "stderr",
     "output_type": "stream",
     "text": [
      "/usr/local/lib/python3.5/dist-packages/keras/models.py:851: UserWarning: The `nb_epoch` argument in `fit` has been renamed `epochs`.\n",
      "  warnings.warn('The `nb_epoch` argument in `fit` '\n"
     ]
    },
    {
     "name": "stdout",
     "output_type": "stream",
     "text": [
      "Epoch 1/10\n",
      "42000/42000 [==============================] - 6s - loss: 0.2970 - acc: 0.9095     \n",
      "Epoch 2/10\n",
      "42000/42000 [==============================] - 6s - loss: 0.1277 - acc: 0.9618     \n",
      "Epoch 3/10\n",
      "42000/42000 [==============================] - 6s - loss: 0.0966 - acc: 0.9710     \n",
      "Epoch 4/10\n",
      "42000/42000 [==============================] - 6s - loss: 0.0789 - acc: 0.9753     \n",
      "Epoch 5/10\n",
      "42000/42000 [==============================] - 6s - loss: 0.0685 - acc: 0.9792     \n",
      "Epoch 6/10\n",
      "42000/42000 [==============================] - 7s - loss: 0.0615 - acc: 0.9805     \n",
      "Epoch 7/10\n",
      "42000/42000 [==============================] - 6s - loss: 0.0520 - acc: 0.9834     \n",
      "Epoch 8/10\n",
      "42000/42000 [==============================] - 7s - loss: 0.0485 - acc: 0.9841     \n",
      "Epoch 9/10\n",
      "42000/42000 [==============================] - 6s - loss: 0.0469 - acc: 0.9850     \n",
      "Epoch 10/10\n",
      "42000/42000 [==============================] - 6s - loss: 0.0407 - acc: 0.9867     \n"
     ]
    },
    {
     "data": {
      "text/plain": [
       "<keras.callbacks.History at 0x7f90d9ef99e8>"
      ]
     },
     "execution_count": 68,
     "metadata": {},
     "output_type": "execute_result"
    }
   ],
   "source": [
    "model.fit(X_train, Y_train, batch_size=32, nb_epoch=10, verbose=1)"
   ]
  },
  {
   "cell_type": "code",
   "execution_count": 70,
   "metadata": {},
   "outputs": [
    {
     "data": {
      "text/plain": [
       "array([  3.80446252e-08,   1.27125524e-11,   3.95043546e-12,\n",
       "         7.13047732e-10,   1.54360844e-08,   4.55034854e-09,\n",
       "         2.06212894e-11,   9.99964833e-01,   2.05983813e-10,\n",
       "         3.52131465e-05], dtype=float32)"
      ]
     },
     "execution_count": 70,
     "metadata": {},
     "output_type": "execute_result"
    }
   ],
   "source": [
    "import numpy as np\n",
    "\n",
    "Y_pred = model.predict(X_test, verbose=0)\n",
    "y_pred = np.argmax(Y_pred, axis=1)\n",
    "Y_pred[1001]"
   ]
  },
  {
   "cell_type": "code",
   "execution_count": 73,
   "metadata": {
    "collapsed": true
   },
   "outputs": [],
   "source": [
    "with open('predictions.csv', 'w') as output:\n",
    "    output.write('ImageId,Label\\n')\n",
    "    for i,pred in enumerate(y_pred):\n",
    "        output.write('%d,%d\\n' % (i+1, pred))"
   ]
  }
 ],
 "metadata": {
  "kernelspec": {
   "display_name": "Python 3",
   "language": "python",
   "name": "python3"
  },
  "language_info": {
   "codemirror_mode": {
    "name": "ipython",
    "version": 3
   },
   "file_extension": ".py",
   "mimetype": "text/x-python",
   "name": "python",
   "nbconvert_exporter": "python",
   "pygments_lexer": "ipython3",
   "version": "3.6.1"
  }
 },
 "nbformat": 4,
 "nbformat_minor": 2
}
