{
 "cells": [
  {
   "cell_type": "code",
   "execution_count": 9,
   "metadata": {
    "_cell_guid": "42618ab1-ea7d-4a8b-98ae-584774306108",
    "_uuid": "c73fefe3108dfd1f26cfda367a8df7283ac4c586",
    "collapsed": true
   },
   "outputs": [],
   "source": [
    "import pandas as pd\n",
    "import numpy as np\n",
    "from sklearn.metrics import log_loss\n",
    "from sklearn.model_selection import train_test_split\n",
    "import os"
   ]
  },
  {
   "cell_type": "code",
   "execution_count": 10,
   "metadata": {
    "_cell_guid": "9d5839b6-f7fb-426d-b05f-cf2dba9313a8",
    "_uuid": "d375d4f754ad7fb77db2142c7c075b4ad4168390",
    "collapsed": true
   },
   "outputs": [],
   "source": [
    "DATA_DIR = '/home/jeff/Downloads/data/statoil'\n",
    "train = pd.read_json(os.path.join(DATA_DIR, 'train.json'))\n",
    "X_band_1=np.array([np.array(band).astype(np.float32).reshape(75, 75) for band in train[\"band_1\"]])\n",
    "X_band_2=np.array([np.array(band).astype(np.float32).reshape(75, 75) for band in train[\"band_2\"]])\n",
    "X_band_3=(X_band_1+X_band_2)/2\n",
    "X_train = np.concatenate([X_band_1[:, :, :, np.newaxis]\n",
    "                          , X_band_2[:, :, :, np.newaxis]\n",
    "                         , X_band_3[:, :, :, np.newaxis]], axis=-1)\n",
    "y_train = train['is_iceberg']"
   ]
  },
  {
   "cell_type": "code",
   "execution_count": 11,
   "metadata": {
    "collapsed": true
   },
   "outputs": [],
   "source": [
    "X_train, X_val, y_train, y_val = train_test_split(X_train, y_train, test_size=0.2)"
   ]
  },
  {
   "cell_type": "code",
   "execution_count": 3,
   "metadata": {
    "collapsed": true
   },
   "outputs": [],
   "source": [
    "test = pd.read_json(os.path.join(DATA_DIR, 'test.json'))\n",
    "X_band_test_1=np.array([np.array(band).astype(np.float32).reshape(75, 75) for band in test[\"band_1\"]])\n",
    "X_band_test_2=np.array([np.array(band).astype(np.float32).reshape(75, 75) for band in test[\"band_2\"]])\n",
    "X_band_test_3=(X_band_test_1+X_band_test_2)/2\n",
    "X_test = np.concatenate([X_band_test_1[:, :, :, np.newaxis]\n",
    "                          , X_band_test_2[:, :, :, np.newaxis]\n",
    "                         , X_band_test_3[:, :, :, np.newaxis]], axis=-1)"
   ]
  },
  {
   "cell_type": "code",
   "execution_count": 20,
   "metadata": {},
   "outputs": [],
   "source": [
    "# note: https://www.kaggle.com/devm2024/transfer-learning-with-vgg-16-cnn-aug-lb-0-1712\n",
    "# was used as reference; however, this version is much simpler because it doesn't use\n",
    "# kfold concepts\n",
    "from keras.models import Model\n",
    "from keras.applications.vgg16 import VGG16\n",
    "from keras.layers import MaxPooling2D, Dense, Dropout, Input, Flatten, Activation\n",
    "from keras.layers import GlobalMaxPooling2D\n",
    "from keras.layers.normalization import BatchNormalization\n",
    "from keras.layers.merge import Concatenate\n",
    "from keras.preprocessing.image import ImageDataGenerator\n",
    "from keras.optimizers import SGD\n",
    "from keras.callbacks import ModelCheckpoint, Callback, EarlyStopping\n",
    "\n",
    "base_model = VGG16(weights='imagenet', include_top=False, \n",
    "                 input_shape=X_train.shape[1:], classes=1)\n",
    "x = base_model.get_layer('block5_pool').output\n",
    "    \n",
    "\n",
    "x = GlobalMaxPooling2D()(x)\n",
    "x = Dense(512, activation='relu', name='fc2')(x)\n",
    "x = Dropout(0.3)(x)\n",
    "x = Dense(512, activation='relu', name='fc3')(x)\n",
    "x = Dropout(0.3)(x)\n",
    "predictions = Dense(1, activation='sigmoid')(x)\n",
    "\n",
    "model = Model(inputs=base_model.input, outputs=predictions)\n",
    "sgd = SGD()\n",
    "model.compile(loss='binary_crossentropy', optimizer=sgd, metrics=['accuracy'])"
   ]
  },
  {
   "cell_type": "code",
   "execution_count": 14,
   "metadata": {
    "collapsed": true
   },
   "outputs": [],
   "source": [
    "data_aug = ImageDataGenerator(horizontal_flip=True, vertical_flip=True, width_shift_range=0,\n",
    "                              height_shift_range=0, channel_shift_range=0, zoom_range = 0.5,\n",
    "                              rotation_range = 15)\n",
    "es = EarlyStopping('val_loss', patience=10)\n",
    "save = ModelCheckpoint(os.path.join(DATA_DIR, 'checkpoint'))"
   ]
  },
  {
   "cell_type": "code",
   "execution_count": 19,
   "metadata": {
    "_cell_guid": "ea82458f-f41c-4abb-87aa-0dfc7a447969",
    "_uuid": "d462c689ee61d4c1cdcee42c7ded6c7c31c9cddc"
   },
   "outputs": [
    {
     "name": "stdout",
     "output_type": "stream",
     "text": [
      "Epoch 1/100\n",
      "64/64 [==============================] - 5s - loss: 0.8144 - acc: 0.5223 - val_loss: 0.6142 - val_acc: 0.5483\n",
      "Epoch 2/100\n",
      "64/64 [==============================] - 3s - loss: 0.5827 - acc: 0.6812 - val_loss: 0.4972 - val_acc: 0.7913\n",
      "Epoch 3/100\n",
      "64/64 [==============================] - 3s - loss: 0.4828 - acc: 0.7524 - val_loss: 0.4202 - val_acc: 0.7819\n",
      "Epoch 4/100\n",
      "64/64 [==============================] - 3s - loss: 0.4037 - acc: 0.8170 - val_loss: 0.3727 - val_acc: 0.8318\n",
      "Epoch 5/100\n",
      "64/64 [==============================] - 3s - loss: 0.3657 - acc: 0.8247 - val_loss: 0.2930 - val_acc: 0.8629\n",
      "Epoch 6/100\n",
      "64/64 [==============================] - 3s - loss: 0.3391 - acc: 0.8378 - val_loss: 0.4093 - val_acc: 0.8474\n",
      "Epoch 7/100\n",
      "64/64 [==============================] - 3s - loss: 0.3613 - acc: 0.8403 - val_loss: 0.2891 - val_acc: 0.8660\n",
      "Epoch 8/100\n",
      "64/64 [==============================] - 3s - loss: 0.3014 - acc: 0.8618 - val_loss: 0.2669 - val_acc: 0.8910\n",
      "Epoch 9/100\n",
      "64/64 [==============================] - 3s - loss: 0.4054 - acc: 0.8058 - val_loss: 0.3253 - val_acc: 0.8692\n",
      "Epoch 10/100\n",
      "64/64 [==============================] - 4s - loss: 0.3100 - acc: 0.8625 - val_loss: 0.3251 - val_acc: 0.8349\n",
      "Epoch 11/100\n",
      "64/64 [==============================] - 3s - loss: 0.2744 - acc: 0.8779 - val_loss: 0.2664 - val_acc: 0.8910\n",
      "Epoch 12/100\n",
      "64/64 [==============================] - 4s - loss: 0.2929 - acc: 0.8669 - val_loss: 0.2658 - val_acc: 0.8972\n",
      "Epoch 13/100\n",
      "64/64 [==============================] - 3s - loss: 0.3370 - acc: 0.8693 - val_loss: 0.2836 - val_acc: 0.8847\n",
      "Epoch 14/100\n",
      "64/64 [==============================] - 3s - loss: 0.2700 - acc: 0.8901 - val_loss: 0.2632 - val_acc: 0.8910\n",
      "Epoch 15/100\n",
      "64/64 [==============================] - 3s - loss: 0.2735 - acc: 0.8837 - val_loss: 0.2595 - val_acc: 0.8972\n",
      "Epoch 16/100\n",
      "64/64 [==============================] - 3s - loss: 0.2720 - acc: 0.8843 - val_loss: 0.2520 - val_acc: 0.9065\n",
      "Epoch 17/100\n",
      "64/64 [==============================] - 3s - loss: 0.2319 - acc: 0.9023 - val_loss: 0.2588 - val_acc: 0.8941\n",
      "Epoch 18/100\n",
      "64/64 [==============================] - 3s - loss: 0.2315 - acc: 0.9018 - val_loss: 0.2757 - val_acc: 0.8910\n",
      "Epoch 19/100\n",
      "64/64 [==============================] - 3s - loss: 0.2466 - acc: 0.8933 - val_loss: 0.2536 - val_acc: 0.9003\n",
      "Epoch 20/100\n",
      "64/64 [==============================] - 4s - loss: 0.2355 - acc: 0.9023 - val_loss: 0.2797 - val_acc: 0.8972\n",
      "Epoch 21/100\n",
      "64/64 [==============================] - 4s - loss: 0.2474 - acc: 0.9009 - val_loss: 0.2573 - val_acc: 0.9034\n",
      "Epoch 22/100\n",
      "64/64 [==============================] - 4s - loss: 0.2441 - acc: 0.8994 - val_loss: 0.2756 - val_acc: 0.8972\n",
      "Epoch 23/100\n",
      "64/64 [==============================] - 4s - loss: 0.2179 - acc: 0.9136 - val_loss: 0.2593 - val_acc: 0.8910\n",
      "Epoch 24/100\n",
      "64/64 [==============================] - 4s - loss: 0.2656 - acc: 0.8727 - val_loss: 0.2597 - val_acc: 0.9003\n",
      "Epoch 25/100\n",
      "64/64 [==============================] - 4s - loss: 0.2316 - acc: 0.9023 - val_loss: 0.2463 - val_acc: 0.9128\n",
      "Epoch 26/100\n",
      "64/64 [==============================] - 4s - loss: 0.2160 - acc: 0.9184 - val_loss: 0.3305 - val_acc: 0.8536\n",
      "Epoch 27/100\n",
      "64/64 [==============================] - 4s - loss: 0.2271 - acc: 0.9006 - val_loss: 0.2659 - val_acc: 0.8816\n",
      "Epoch 28/100\n",
      "64/64 [==============================] - 4s - loss: 0.2137 - acc: 0.9048 - val_loss: 0.2767 - val_acc: 0.8847\n",
      "Epoch 29/100\n",
      "64/64 [==============================] - 4s - loss: 0.2307 - acc: 0.9047 - val_loss: 0.2810 - val_acc: 0.8941\n",
      "Epoch 30/100\n",
      "64/64 [==============================] - 4s - loss: 0.2134 - acc: 0.9070 - val_loss: 0.3020 - val_acc: 0.8754\n",
      "Epoch 31/100\n",
      "64/64 [==============================] - 4s - loss: 0.1933 - acc: 0.9248 - val_loss: 0.2454 - val_acc: 0.9065\n",
      "Epoch 32/100\n",
      "64/64 [==============================] - 4s - loss: 0.2125 - acc: 0.9077 - val_loss: 0.2436 - val_acc: 0.9097\n",
      "Epoch 33/100\n",
      "64/64 [==============================] - 4s - loss: 0.2052 - acc: 0.9128 - val_loss: 0.2660 - val_acc: 0.9034\n",
      "Epoch 34/100\n",
      "64/64 [==============================] - 4s - loss: 0.2022 - acc: 0.9094 - val_loss: 0.2478 - val_acc: 0.8972\n",
      "Epoch 35/100\n",
      "64/64 [==============================] - 4s - loss: 0.1851 - acc: 0.9231 - val_loss: 0.3024 - val_acc: 0.8785\n",
      "Epoch 36/100\n",
      "64/64 [==============================] - 4s - loss: 0.2098 - acc: 0.9174 - val_loss: 0.2603 - val_acc: 0.8972\n",
      "Epoch 37/100\n",
      "64/64 [==============================] - 4s - loss: 0.2017 - acc: 0.9160 - val_loss: 0.2431 - val_acc: 0.9034\n",
      "Epoch 38/100\n",
      "64/64 [==============================] - 4s - loss: 0.1947 - acc: 0.9179 - val_loss: 0.2626 - val_acc: 0.8972\n",
      "Epoch 39/100\n",
      "64/64 [==============================] - 4s - loss: 0.1862 - acc: 0.9223 - val_loss: 0.2919 - val_acc: 0.8692\n",
      "Epoch 40/100\n",
      "64/64 [==============================] - 4s - loss: 0.1913 - acc: 0.9194 - val_loss: 0.2514 - val_acc: 0.9065\n",
      "Epoch 41/100\n",
      "64/64 [==============================] - 4s - loss: 0.1804 - acc: 0.9301 - val_loss: 0.2518 - val_acc: 0.9034\n",
      "Epoch 42/100\n",
      "64/64 [==============================] - 4s - loss: 0.1777 - acc: 0.9209 - val_loss: 0.2721 - val_acc: 0.8941\n",
      "Epoch 43/100\n",
      "64/64 [==============================] - 4s - loss: 0.1883 - acc: 0.9297 - val_loss: 0.2400 - val_acc: 0.9003\n",
      "Epoch 44/100\n",
      "64/64 [==============================] - 4s - loss: 0.1859 - acc: 0.9223 - val_loss: 0.2453 - val_acc: 0.9034\n",
      "Epoch 45/100\n",
      "64/64 [==============================] - 4s - loss: 0.1752 - acc: 0.9277 - val_loss: 0.2589 - val_acc: 0.8972\n",
      "Epoch 46/100\n",
      "64/64 [==============================] - 4s - loss: 0.1681 - acc: 0.9302 - val_loss: 0.2758 - val_acc: 0.9065\n",
      "Epoch 47/100\n",
      "64/64 [==============================] - 4s - loss: 0.1814 - acc: 0.9282 - val_loss: 0.2540 - val_acc: 0.8941\n",
      "Epoch 48/100\n",
      "64/64 [==============================] - 4s - loss: 0.1699 - acc: 0.9287 - val_loss: 0.2550 - val_acc: 0.9003\n",
      "Epoch 49/100\n",
      "64/64 [==============================] - 4s - loss: 0.1729 - acc: 0.9331 - val_loss: 0.2514 - val_acc: 0.8972\n",
      "Epoch 50/100\n",
      "64/64 [==============================] - 4s - loss: 0.1604 - acc: 0.9331 - val_loss: 0.2911 - val_acc: 0.8847\n",
      "Epoch 51/100\n",
      "64/64 [==============================] - 4s - loss: 0.1797 - acc: 0.9287 - val_loss: 0.3248 - val_acc: 0.8660\n",
      "Epoch 52/100\n",
      "64/64 [==============================] - 4s - loss: 0.1842 - acc: 0.9233 - val_loss: 0.2796 - val_acc: 0.8847\n",
      "Epoch 53/100\n",
      "64/64 [==============================] - 4s - loss: 0.1506 - acc: 0.9370 - val_loss: 0.2709 - val_acc: 0.9003\n",
      "Epoch 54/100\n",
      "64/64 [==============================] - 4s - loss: 0.2333 - acc: 0.8986 - val_loss: 0.2531 - val_acc: 0.9034\n"
     ]
    },
    {
     "data": {
      "text/plain": [
       "<keras.callbacks.History at 0x7ff20c00a208>"
      ]
     },
     "execution_count": 19,
     "metadata": {},
     "output_type": "execute_result"
    }
   ],
   "source": [
    "model.fit_generator(data_aug.flow(X_train, y_train), epochs=100, steps_per_epoch=64, verbose=True,\n",
    "                   validation_data=(X_val, y_val), callbacks=[es, save])"
   ]
  },
  {
   "cell_type": "code",
   "execution_count": 25,
   "metadata": {},
   "outputs": [],
   "source": [
    "preds = model.predict(X_test)"
   ]
  },
  {
   "cell_type": "code",
   "execution_count": 26,
   "metadata": {
    "_cell_guid": "012fc91e-17ff-4163-a32d-79007feba4fc",
    "_uuid": "2e7f1db4b36211939fb9650e3b721ac8db09dda2"
   },
   "outputs": [],
   "source": [
    "with open(os.path.join(DATA_DIR, 'predictions.csv'), 'w') as pred_file:\n",
    "    pred_file.write('id,is_iceberg\\n')\n",
    "    for i,pred in enumerate(preds):\n",
    "        pred_file.write('{},{}\\n'.format(test['id'][i], pred[0]))"
   ]
  }
 ],
 "metadata": {
  "kernelspec": {
   "display_name": "Python 3",
   "language": "python",
   "name": "python3"
  },
  "language_info": {
   "codemirror_mode": {
    "name": "ipython",
    "version": 3
   },
   "file_extension": ".py",
   "mimetype": "text/x-python",
   "name": "python",
   "nbconvert_exporter": "python",
   "pygments_lexer": "ipython3",
   "version": "3.5.3"
  }
 },
 "nbformat": 4,
 "nbformat_minor": 1
}
