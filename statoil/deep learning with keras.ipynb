{
 "cells": [
  {
   "cell_type": "code",
   "execution_count": 4,
   "metadata": {
    "collapsed": true
   },
   "outputs": [],
   "source": [
    "import pandas as pd\n",
    "import numpy as np\n",
    "import matplotlib.pyplot as plt\n",
    "import seaborn as sns\n",
    "import os\n",
    "from keras.layers import Dense\n",
    "from keras.models import Model\n",
    "from keras.applications.vgg16 import VGG16\n",
    "import cv2\n",
    "%matplotlib inline"
   ]
  },
  {
   "cell_type": "code",
   "execution_count": 6,
   "metadata": {
    "collapsed": true
   },
   "outputs": [],
   "source": [
    "DATA_DIR = '/home/jeff/Downloads/data/statoil/'\n",
    "train = pd.read_json(os.path.join(DATA_DIR, 'train.json'))\n",
    "train['inc_angle'] = pd.to_numeric(train['inc_angle'],errors='coerce')\n",
    "train.fillna(method='pad', inplace=True)"
   ]
  },
  {
   "cell_type": "code",
   "execution_count": 11,
   "metadata": {
    "collapsed": true
   },
   "outputs": [],
   "source": [
    "X_band_1=np.array([np.array(band).astype(np.float32).reshape(75, 75) for band in train[\"band_1\"]])\n",
    "X_band_2=np.array([np.array(band).astype(np.float32).reshape(75, 75) for band in train[\"band_2\"]])\n",
    "X_band_3=(X_band_1+X_band_2)/2\n",
    "X_train = np.concatenate([X_band_1[:, :, :, np.newaxis]\n",
    "                          , X_band_2[:, :, :, np.newaxis]\n",
    "                         , X_band_3[:, :, :, np.newaxis]], axis=-1)"
   ]
  },
  {
   "cell_type": "code",
   "execution_count": 12,
   "metadata": {},
   "outputs": [
    {
     "name": "stdout",
     "output_type": "stream",
     "text": [
      "Epoch 1/10\n",
      "1604/1604 [==============================] - 9s - loss: 7.5089 - acc: 0.5268     \n",
      "Epoch 2/10\n",
      "1604/1604 [==============================] - 0s - loss: 7.5667 - acc: 0.5305     \n",
      "Epoch 3/10\n",
      "1604/1604 [==============================] - 0s - loss: 7.5667 - acc: 0.5305     \n",
      "Epoch 4/10\n",
      "1604/1604 [==============================] - 0s - loss: 7.5667 - acc: 0.5305     \n",
      "Epoch 5/10\n",
      "1604/1604 [==============================] - 0s - loss: 7.5667 - acc: 0.5305     \n",
      "Epoch 6/10\n",
      "1604/1604 [==============================] - 0s - loss: 7.5667 - acc: 0.5305     \n",
      "Epoch 7/10\n",
      "1604/1604 [==============================] - 0s - loss: 7.5667 - acc: 0.5305     \n",
      "Epoch 8/10\n",
      "1604/1604 [==============================] - 0s - loss: 7.5667 - acc: 0.5305     \n",
      "Epoch 9/10\n",
      "1604/1604 [==============================] - 0s - loss: 7.5667 - acc: 0.5305     \n",
      "Epoch 10/10\n",
      "1604/1604 [==============================] - 0s - loss: 7.5667 - acc: 0.5305     \n"
     ]
    },
    {
     "data": {
      "text/plain": [
       "<keras.callbacks.History at 0x7faafbb1ff98>"
      ]
     },
     "execution_count": 12,
     "metadata": {},
     "output_type": "execute_result"
    }
   ],
   "source": [
    "import pandas as pd\n",
    "from keras.models import Model\n",
    "from keras.layers import Input, Dense, Dropout, Activation, Flatten\n",
    "from keras.layers.convolutional import Conv2D\n",
    "from keras.layers.pooling import MaxPooling2D\n",
    "from keras.optimizers import SGD\n",
    "\n",
    "# input\n",
    "model_input = Input(shape=(75,75,3))\n",
    "\n",
    "# hidden layers\n",
    "# Block 1\n",
    "x = Conv2D(16, (3, 3), activation='relu', padding='same', name='block1_conv1')(model_input)\n",
    "x = Conv2D(16, (3, 3), activation='relu', padding='same', name='block1_conv2')(x)\n",
    "x = MaxPooling2D((2, 2), strides=(2, 2), name='block1_pool')(x)\n",
    "\n",
    "x = Flatten(name='flatten')(x)\n",
    "x = Dense(100, activation='relu', name='fc1')(x)\n",
    "x = Dense(100, activation='relu', name='fc2')(x)\n",
    "x = Dense(1, name='pre-predictions')(x)\n",
    "x = Activation('sigmoid')(x)\n",
    "\n",
    "sgd = SGD(lr=0.01)\n",
    "model = Model(model_input, x)\n",
    "\n",
    "model.compile(loss='binary_crossentropy', optimizer=sgd, metrics=['accuracy'])\n",
    "model.fit(X_train, y_train, batch_size=32, epochs=10, verbose=1, validation_split=0)"
   ]
  },
  {
   "cell_type": "code",
   "execution_count": 9,
   "metadata": {},
   "outputs": [
    {
     "name": "stdout",
     "output_type": "stream",
     "text": [
      "_________________________________________________________________\n",
      "Layer (type)                 Output Shape              Param #   \n",
      "=================================================================\n",
      "input_2 (InputLayer)         (None, 75, 75, 3)         0         \n",
      "_________________________________________________________________\n",
      "block1_conv1 (Conv2D)        (None, 75, 75, 16)        448       \n",
      "_________________________________________________________________\n",
      "block1_conv2 (Conv2D)        (None, 75, 75, 16)        2320      \n",
      "_________________________________________________________________\n",
      "block1_pool (MaxPooling2D)   (None, 37, 37, 16)        0         \n",
      "_________________________________________________________________\n",
      "flatten (Flatten)            (None, 21904)             0         \n",
      "_________________________________________________________________\n",
      "fc1 (Dense)                  (None, 100)               2190500   \n",
      "_________________________________________________________________\n",
      "fc2 (Dense)                  (None, 100)               10100     \n",
      "_________________________________________________________________\n",
      "pre-predictions (Dense)      (None, 1)                 101       \n",
      "_________________________________________________________________\n",
      "activation_2 (Activation)    (None, 1)                 0         \n",
      "=================================================================\n",
      "Total params: 2,203,469\n",
      "Trainable params: 2,203,469\n",
      "Non-trainable params: 0\n",
      "_________________________________________________________________\n"
     ]
    }
   ],
   "source": [
    "model.summary()"
   ]
  },
  {
   "cell_type": "code",
   "execution_count": 21,
   "metadata": {},
   "outputs": [
    {
     "data": {
      "text/plain": [
       "array([0, 0, 1, ..., 0, 0, 0])"
      ]
     },
     "execution_count": 21,
     "metadata": {},
     "output_type": "execute_result"
    }
   ],
   "source": [
    "np.matrix(train['band_1'].values).shape\n",
    "y_train"
   ]
  },
  {
   "cell_type": "code",
   "execution_count": 15,
   "metadata": {},
   "outputs": [
    {
     "name": "stdout",
     "output_type": "stream",
     "text": [
      "Epoch 1/10\n",
      "1604/1604 [==============================] - 0s - loss: 7.5667 - acc: 0.5305     \n",
      "Epoch 2/10\n",
      "1604/1604 [==============================] - 0s - loss: 7.5667 - acc: 0.5305     \n",
      "Epoch 3/10\n",
      "1604/1604 [==============================] - 0s - loss: 7.5667 - acc: 0.5305     \n",
      "Epoch 4/10\n",
      "1604/1604 [==============================] - 0s - loss: 7.5667 - acc: 0.5305     \n",
      "Epoch 5/10\n",
      "1604/1604 [==============================] - 0s - loss: 7.5667 - acc: 0.5305     \n",
      "Epoch 6/10\n",
      "1604/1604 [==============================] - 0s - loss: 7.5667 - acc: 0.5305     \n",
      "Epoch 7/10\n",
      "1604/1604 [==============================] - 0s - loss: 7.5667 - acc: 0.5305     \n",
      "Epoch 8/10\n",
      "1604/1604 [==============================] - 0s - loss: 7.5667 - acc: 0.5305     \n",
      "Epoch 9/10\n",
      "1604/1604 [==============================] - 0s - loss: 7.5667 - acc: 0.5305     \n",
      "Epoch 10/10\n",
      "1604/1604 [==============================] - 0s - loss: 7.5667 - acc: 0.5305     \n"
     ]
    },
    {
     "data": {
      "text/plain": [
       "<keras.callbacks.History at 0x7fab0348fc50>"
      ]
     },
     "execution_count": 15,
     "metadata": {},
     "output_type": "execute_result"
    }
   ],
   "source": [
    "y_train = train['is_iceberg'].values\n",
    "model.fit(X_train, y_train, epochs=10)"
   ]
  },
  {
   "cell_type": "code",
   "execution_count": 16,
   "metadata": {},
   "outputs": [],
   "source": [
    "test = pd.read_json(os.path.join(DATA_DIR, 'test.json'))\n",
    "X_band_test_1=np.array([np.array(band).astype(np.float32).reshape(75, 75) for band in test[\"band_1\"]])\n",
    "X_band_test_2=np.array([np.array(band).astype(np.float32).reshape(75, 75) for band in test[\"band_2\"]])\n",
    "X_band_test_3=(X_band_test_1+X_band_test_2)/2\n",
    "X_test = np.concatenate([X_band_test_1[:, :, :, np.newaxis]\n",
    "                          , X_band_test_2[:, :, :, np.newaxis]\n",
    "                         , X_band_test_3[:, :, :, np.newaxis]], axis=-1)"
   ]
  },
  {
   "cell_type": "code",
   "execution_count": 18,
   "metadata": {},
   "outputs": [],
   "source": [
    "preds = model.predict(X_test)"
   ]
  },
  {
   "cell_type": "code",
   "execution_count": 22,
   "metadata": {
    "collapsed": true
   },
   "outputs": [],
   "source": [
    " with open(os.path.join(DATA_DIR, 'predictions.csv'), 'w') as pred_file:\n",
    "        pred_file.write('id,is_iceberg\\n')\n",
    "        for i,pred in enumerate(preds):\n",
    "            pred_file.write('{},{}\\n'.format(test['id'][i], pred[0]))"
   ]
  }
 ],
 "metadata": {
  "kernelspec": {
   "display_name": "Python 3",
   "language": "python",
   "name": "python3"
  },
  "language_info": {
   "codemirror_mode": {
    "name": "ipython",
    "version": 3
   },
   "file_extension": ".py",
   "mimetype": "text/x-python",
   "name": "python",
   "nbconvert_exporter": "python",
   "pygments_lexer": "ipython3",
   "version": "3.5.3"
  }
 },
 "nbformat": 4,
 "nbformat_minor": 2
}
