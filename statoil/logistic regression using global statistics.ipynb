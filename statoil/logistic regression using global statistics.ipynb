{
 "cells": [
  {
   "cell_type": "code",
   "execution_count": 9,
   "metadata": {
    "collapsed": true
   },
   "outputs": [],
   "source": [
    "import pandas as pd\n",
    "import numpy as np\n",
    "import matplotlib.pyplot as plt\n",
    "import seaborn as sns\n",
    "import os\n",
    "from sklearn.linear_model import LogisticRegression\n",
    "%matplotlib inline"
   ]
  },
  {
   "cell_type": "code",
   "execution_count": 20,
   "metadata": {
    "collapsed": true
   },
   "outputs": [],
   "source": [
    "DATA_DIR = '/home/jeff/Downloads/data/statoil/'\n",
    "train = pd.read_json(os.path.join(DATA_DIR, 'train.json'))\n",
    "train['inc_angle'] = pd.to_numeric(train['inc_angle'],errors='coerce')\n",
    "train.fillna(method='pad', inplace=True)"
   ]
  },
  {
   "cell_type": "code",
   "execution_count": 21,
   "metadata": {
    "collapsed": true
   },
   "outputs": [],
   "source": [
    "# stat collection from https://www.kaggle.com/muonneutrino/exploration-transforming-images-in-python\n",
    "def get_stats(train,label=1):\n",
    "    train['max'+str(label)] = [np.max(np.array(x)) for x in train['band_'+str(label)] ]\n",
    "    train['maxpos'+str(label)] = [np.argmax(np.array(x)) for x in train['band_'+str(label)] ]\n",
    "    train['min'+str(label)] = [np.min(np.array(x)) for x in train['band_'+str(label)] ]\n",
    "    train['minpos'+str(label)] = [np.argmin(np.array(x)) for x in train['band_'+str(label)] ]\n",
    "    train['med'+str(label)] = [np.median(np.array(x)) for x in train['band_'+str(label)] ]\n",
    "    train['std'+str(label)] = [np.std(np.array(x)) for x in train['band_'+str(label)] ]\n",
    "    train['mean'+str(label)] = [np.mean(np.array(x)) for x in train['band_'+str(label)] ]\n",
    "    train['p25_'+str(label)] = [np.sort(np.array(x))[int(0.25*75*75)] for x in train['band_'+str(label)] ]\n",
    "    train['p75_'+str(label)] = [np.sort(np.array(x))[int(0.75*75*75)] for x in train['band_'+str(label)] ]\n",
    "    train['mid50_'+str(label)] = train['p75_'+str(label)]-train['p25_'+str(label)]\n",
    "\n",
    "    return train\n",
    "train = get_stats(train,1)\n",
    "train = get_stats(train,2)"
   ]
  },
  {
   "cell_type": "code",
   "execution_count": 18,
   "metadata": {},
   "outputs": [
    {
     "data": {
      "text/html": [
       "<div>\n",
       "<style>\n",
       "    .dataframe thead tr:only-child th {\n",
       "        text-align: right;\n",
       "    }\n",
       "\n",
       "    .dataframe thead th {\n",
       "        text-align: left;\n",
       "    }\n",
       "\n",
       "    .dataframe tbody tr th {\n",
       "        vertical-align: top;\n",
       "    }\n",
       "</style>\n",
       "<table border=\"1\" class=\"dataframe\">\n",
       "  <thead>\n",
       "    <tr style=\"text-align: right;\">\n",
       "      <th></th>\n",
       "      <th>band_1</th>\n",
       "      <th>band_2</th>\n",
       "      <th>id</th>\n",
       "      <th>inc_angle</th>\n",
       "      <th>is_iceberg</th>\n",
       "      <th>max1</th>\n",
       "      <th>maxpos1</th>\n",
       "      <th>min1</th>\n",
       "      <th>minpos1</th>\n",
       "      <th>med1</th>\n",
       "      <th>...</th>\n",
       "      <th>max2</th>\n",
       "      <th>maxpos2</th>\n",
       "      <th>min2</th>\n",
       "      <th>minpos2</th>\n",
       "      <th>med2</th>\n",
       "      <th>std2</th>\n",
       "      <th>mean2</th>\n",
       "      <th>p25_2</th>\n",
       "      <th>p75_2</th>\n",
       "      <th>mid50_2</th>\n",
       "    </tr>\n",
       "  </thead>\n",
       "  <tbody>\n",
       "    <tr>\n",
       "      <th>0</th>\n",
       "      <td>[-27.878360999999998, -27.15416, -28.668615, -...</td>\n",
       "      <td>[-27.154118, -29.537888, -31.0306, -32.190483,...</td>\n",
       "      <td>dfd5f913</td>\n",
       "      <td>43.9239</td>\n",
       "      <td>0</td>\n",
       "      <td>-0.213149</td>\n",
       "      <td>2735</td>\n",
       "      <td>-38.211376</td>\n",
       "      <td>2404</td>\n",
       "      <td>-27.879921</td>\n",
       "      <td>...</td>\n",
       "      <td>-11.252153</td>\n",
       "      <td>2810</td>\n",
       "      <td>-41.135918</td>\n",
       "      <td>3125</td>\n",
       "      <td>-30.007847</td>\n",
       "      <td>2.381284</td>\n",
       "      <td>-29.910117</td>\n",
       "      <td>-31.591387</td>\n",
       "      <td>-28.267622</td>\n",
       "      <td>3.323765</td>\n",
       "    </tr>\n",
       "    <tr>\n",
       "      <th>1</th>\n",
       "      <td>[-12.242375, -14.920304999999999, -14.920363, ...</td>\n",
       "      <td>[-31.506321, -27.984554, -26.645678, -23.76760...</td>\n",
       "      <td>e25388fd</td>\n",
       "      <td>38.1562</td>\n",
       "      <td>0</td>\n",
       "      <td>12.570409</td>\n",
       "      <td>2956</td>\n",
       "      <td>-23.125309</td>\n",
       "      <td>3841</td>\n",
       "      <td>-13.654199</td>\n",
       "      <td>...</td>\n",
       "      <td>0.044052</td>\n",
       "      <td>2957</td>\n",
       "      <td>-34.765831</td>\n",
       "      <td>4349</td>\n",
       "      <td>-25.486130</td>\n",
       "      <td>2.934098</td>\n",
       "      <td>-25.359106</td>\n",
       "      <td>-26.963490</td>\n",
       "      <td>-23.997253</td>\n",
       "      <td>2.966237</td>\n",
       "    </tr>\n",
       "    <tr>\n",
       "      <th>2</th>\n",
       "      <td>[-24.603676, -24.603714, -24.871029, -23.15277...</td>\n",
       "      <td>[-24.870956, -24.092632, -20.653963, -19.41104...</td>\n",
       "      <td>58b2aaa0</td>\n",
       "      <td>45.2859</td>\n",
       "      <td>1</td>\n",
       "      <td>-9.918477</td>\n",
       "      <td>2736</td>\n",
       "      <td>-33.391197</td>\n",
       "      <td>2268</td>\n",
       "      <td>-22.935019</td>\n",
       "      <td>...</td>\n",
       "      <td>-15.605879</td>\n",
       "      <td>2661</td>\n",
       "      <td>-34.148819</td>\n",
       "      <td>1570</td>\n",
       "      <td>-24.606205</td>\n",
       "      <td>2.125275</td>\n",
       "      <td>-24.839821</td>\n",
       "      <td>-26.033436</td>\n",
       "      <td>-23.379602</td>\n",
       "      <td>2.653834</td>\n",
       "    </tr>\n",
       "    <tr>\n",
       "      <th>3</th>\n",
       "      <td>[-22.454607, -23.082819, -23.998013, -23.99805...</td>\n",
       "      <td>[-27.889421, -27.519794, -27.165262, -29.10350...</td>\n",
       "      <td>4cfc3a18</td>\n",
       "      <td>43.8306</td>\n",
       "      <td>0</td>\n",
       "      <td>4.795627</td>\n",
       "      <td>2664</td>\n",
       "      <td>-32.204136</td>\n",
       "      <td>1637</td>\n",
       "      <td>-23.303238</td>\n",
       "      <td>...</td>\n",
       "      <td>-5.554516</td>\n",
       "      <td>2664</td>\n",
       "      <td>-39.564053</td>\n",
       "      <td>1346</td>\n",
       "      <td>-29.549923</td>\n",
       "      <td>2.389980</td>\n",
       "      <td>-29.567913</td>\n",
       "      <td>-31.042850</td>\n",
       "      <td>-28.276203</td>\n",
       "      <td>2.766647</td>\n",
       "    </tr>\n",
       "    <tr>\n",
       "      <th>4</th>\n",
       "      <td>[-26.006956, -23.164886, -23.164886, -26.89116...</td>\n",
       "      <td>[-27.206915, -30.259186, -30.259186, -23.16495...</td>\n",
       "      <td>271f93f4</td>\n",
       "      <td>35.6256</td>\n",
       "      <td>0</td>\n",
       "      <td>-6.956036</td>\n",
       "      <td>2585</td>\n",
       "      <td>-35.010487</td>\n",
       "      <td>4401</td>\n",
       "      <td>-25.206615</td>\n",
       "      <td>...</td>\n",
       "      <td>-9.434006</td>\n",
       "      <td>2510</td>\n",
       "      <td>-40.276115</td>\n",
       "      <td>3815</td>\n",
       "      <td>-25.466921</td>\n",
       "      <td>2.276244</td>\n",
       "      <td>-25.627726</td>\n",
       "      <td>-26.895178</td>\n",
       "      <td>-24.017248</td>\n",
       "      <td>2.877930</td>\n",
       "    </tr>\n",
       "  </tbody>\n",
       "</table>\n",
       "<p>5 rows × 25 columns</p>\n",
       "</div>"
      ],
      "text/plain": [
       "                                              band_1  \\\n",
       "0  [-27.878360999999998, -27.15416, -28.668615, -...   \n",
       "1  [-12.242375, -14.920304999999999, -14.920363, ...   \n",
       "2  [-24.603676, -24.603714, -24.871029, -23.15277...   \n",
       "3  [-22.454607, -23.082819, -23.998013, -23.99805...   \n",
       "4  [-26.006956, -23.164886, -23.164886, -26.89116...   \n",
       "\n",
       "                                              band_2        id  inc_angle  \\\n",
       "0  [-27.154118, -29.537888, -31.0306, -32.190483,...  dfd5f913    43.9239   \n",
       "1  [-31.506321, -27.984554, -26.645678, -23.76760...  e25388fd    38.1562   \n",
       "2  [-24.870956, -24.092632, -20.653963, -19.41104...  58b2aaa0    45.2859   \n",
       "3  [-27.889421, -27.519794, -27.165262, -29.10350...  4cfc3a18    43.8306   \n",
       "4  [-27.206915, -30.259186, -30.259186, -23.16495...  271f93f4    35.6256   \n",
       "\n",
       "   is_iceberg       max1  maxpos1       min1  minpos1       med1    ...     \\\n",
       "0           0  -0.213149     2735 -38.211376     2404 -27.879921    ...      \n",
       "1           0  12.570409     2956 -23.125309     3841 -13.654199    ...      \n",
       "2           1  -9.918477     2736 -33.391197     2268 -22.935019    ...      \n",
       "3           0   4.795627     2664 -32.204136     1637 -23.303238    ...      \n",
       "4           0  -6.956036     2585 -35.010487     4401 -25.206615    ...      \n",
       "\n",
       "        max2  maxpos2       min2  minpos2       med2      std2      mean2  \\\n",
       "0 -11.252153     2810 -41.135918     3125 -30.007847  2.381284 -29.910117   \n",
       "1   0.044052     2957 -34.765831     4349 -25.486130  2.934098 -25.359106   \n",
       "2 -15.605879     2661 -34.148819     1570 -24.606205  2.125275 -24.839821   \n",
       "3  -5.554516     2664 -39.564053     1346 -29.549923  2.389980 -29.567913   \n",
       "4  -9.434006     2510 -40.276115     3815 -25.466921  2.276244 -25.627726   \n",
       "\n",
       "       p25_2      p75_2   mid50_2  \n",
       "0 -31.591387 -28.267622  3.323765  \n",
       "1 -26.963490 -23.997253  2.966237  \n",
       "2 -26.033436 -23.379602  2.653834  \n",
       "3 -31.042850 -28.276203  2.766647  \n",
       "4 -26.895178 -24.017248  2.877930  \n",
       "\n",
       "[5 rows x 25 columns]"
      ]
     },
     "execution_count": 18,
     "metadata": {},
     "output_type": "execute_result"
    }
   ],
   "source": [
    "train.head()"
   ]
  },
  {
   "cell_type": "code",
   "execution_count": 24,
   "metadata": {},
   "outputs": [
    {
     "data": {
      "text/plain": [
       "LogisticRegression(C=1.0, class_weight=None, dual=False, fit_intercept=True,\n",
       "          intercept_scaling=1, max_iter=100, multi_class='ovr', n_jobs=1,\n",
       "          penalty='l2', random_state=None, solver='liblinear', tol=0.0001,\n",
       "          verbose=0, warm_start=False)"
      ]
     },
     "execution_count": 24,
     "metadata": {},
     "output_type": "execute_result"
    }
   ],
   "source": [
    "model = LogisticRegression()\n",
    "model.fit(train[['inc_angle', 'max1', 'min1', 'med1', 'std1', 'mean1', 'p25_1', 'p75_1',\n",
    "                'mid50_1', 'max2', 'min2', 'med2', 'std2', 'mean2', 'p25_2', 'p75_2']], train['is_iceberg'])"
   ]
  },
  {
   "cell_type": "code",
   "execution_count": 25,
   "metadata": {
    "collapsed": true
   },
   "outputs": [],
   "source": [
    "test = pd.read_json(os.path.join(DATA_DIR, 'test.json'))"
   ]
  },
  {
   "cell_type": "code",
   "execution_count": 26,
   "metadata": {
    "collapsed": true
   },
   "outputs": [],
   "source": [
    "test = get_stats(test, 1)\n",
    "test = get_stats(test, 2)"
   ]
  },
  {
   "cell_type": "code",
   "execution_count": 36,
   "metadata": {
    "collapsed": true
   },
   "outputs": [],
   "source": [
    "preds = model.predict_proba(test[['inc_angle', 'max1', 'min1', 'med1', 'std1', 'mean1', 'p25_1', 'p75_1',\n",
    "                'mid50_1', 'max2', 'min2', 'med2', 'std2', 'mean2', 'p25_2', 'p75_2']])"
   ]
  },
  {
   "cell_type": "code",
   "execution_count": 40,
   "metadata": {
    "collapsed": true
   },
   "outputs": [],
   "source": [
    " with open(os.path.join(DATA_DIR, 'predictions.csv'), 'w') as pred_file:\n",
    "        pred_file.write('id,is_iceberg\\n')\n",
    "        for i,pred in enumerate(preds):\n",
    "            pred_file.write('{},{}\\n'.format(test['id'][i], pred[1]))"
   ]
  },
  {
   "cell_type": "code",
   "execution_count": 39,
   "metadata": {},
   "outputs": [
    {
     "data": {
      "text/plain": [
       "array([0, 1])"
      ]
     },
     "execution_count": 39,
     "metadata": {},
     "output_type": "execute_result"
    }
   ],
   "source": [
    "model.classes_"
   ]
  }
 ],
 "metadata": {
  "kernelspec": {
   "display_name": "Python 3",
   "language": "python",
   "name": "python3"
  },
  "language_info": {
   "codemirror_mode": {
    "name": "ipython",
    "version": 3
   },
   "file_extension": ".py",
   "mimetype": "text/x-python",
   "name": "python",
   "nbconvert_exporter": "python",
   "pygments_lexer": "ipython3",
   "version": "3.5.3"
  }
 },
 "nbformat": 4,
 "nbformat_minor": 2
}
