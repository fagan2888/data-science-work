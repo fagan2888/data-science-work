{
 "cells": [
  {
   "cell_type": "code",
   "execution_count": 1,
   "metadata": {
    "scrolled": true
   },
   "outputs": [
    {
     "name": "stderr",
     "output_type": "stream",
     "text": [
      "Using TensorFlow backend.\n"
     ]
    },
    {
     "name": "stdout",
     "output_type": "stream",
     "text": [
      "Downloading data from https://github.com/fchollet/deep-learning-models/releases/download/v0.1/vgg16_weights_tf_dim_ordering_tf_kernels_notop.h5\n",
      "58048512/58889256 [============================>.] - ETA: 0snum activations:  755656970\n",
      "_________________________________________________________________\n",
      "Layer (type)                 Output Shape              Param #   \n",
      "=================================================================\n",
      "input_1 (InputLayer)         (None, 1280, 1918, 3)     0         \n",
      "_________________________________________________________________\n",
      "block1_conv1 (Conv2D)        (None, 1280, 1918, 64)    1792      \n",
      "_________________________________________________________________\n",
      "block1_conv2 (Conv2D)        (None, 1280, 1918, 64)    36928     \n",
      "_________________________________________________________________\n",
      "block1_pool (MaxPooling2D)   (None, 640, 959, 64)      0         \n",
      "_________________________________________________________________\n",
      "block2_conv1 (Conv2D)        (None, 640, 959, 128)     73856     \n",
      "_________________________________________________________________\n",
      "block2_conv2 (Conv2D)        (None, 640, 959, 128)     147584    \n",
      "_________________________________________________________________\n",
      "block2_pool (MaxPooling2D)   (None, 320, 479, 128)     0         \n",
      "_________________________________________________________________\n",
      "block3_conv1 (Conv2D)        (None, 320, 479, 256)     295168    \n",
      "_________________________________________________________________\n",
      "block3_conv2 (Conv2D)        (None, 320, 479, 256)     590080    \n",
      "_________________________________________________________________\n",
      "block3_conv3 (Conv2D)        (None, 320, 479, 256)     590080    \n",
      "_________________________________________________________________\n",
      "block3_pool (MaxPooling2D)   (None, 160, 239, 256)     0         \n",
      "_________________________________________________________________\n",
      "block4_conv1 (Conv2D)        (None, 160, 239, 512)     1180160   \n",
      "_________________________________________________________________\n",
      "block4_conv2 (Conv2D)        (None, 160, 239, 512)     2359808   \n",
      "_________________________________________________________________\n",
      "block4_conv3 (Conv2D)        (None, 160, 239, 512)     2359808   \n",
      "_________________________________________________________________\n",
      "block4_pool (MaxPooling2D)   (None, 80, 119, 512)      0         \n",
      "_________________________________________________________________\n",
      "block5_conv1 (Conv2D)        (None, 80, 119, 512)      2359808   \n",
      "_________________________________________________________________\n",
      "block5_conv2 (Conv2D)        (None, 80, 119, 512)      2359808   \n",
      "_________________________________________________________________\n",
      "block5_conv3 (Conv2D)        (None, 80, 119, 512)      2359808   \n",
      "_________________________________________________________________\n",
      "block5_pool (MaxPooling2D)   (None, 40, 59, 512)       0         \n",
      "_________________________________________________________________\n",
      "fc1 (Conv2D)                 (None, 34, 53, 4096)      102764544 \n",
      "_________________________________________________________________\n",
      "fc2 (Conv2D)                 (None, 34, 53, 1024)      4195328   \n",
      "_________________________________________________________________\n",
      "prediction (Conv2D)          (None, 34, 53, 1)         1025      \n",
      "_________________________________________________________________\n",
      "conv2d_transpose_1 (Conv2DTr (None, 1088, 1696, 1)     10        \n",
      "=================================================================\n",
      "Total params: 121,675,595\n",
      "Trainable params: 106,960,907\n",
      "Non-trainable params: 14,714,688\n",
      "_________________________________________________________________\n"
     ]
    }
   ],
   "source": [
    "from BilinearUpSampling import BilinearUpSampling2D\n",
    "from my_model import *\n",
    "\n",
    "# create model\n",
    "model = get_model()\n",
    "\n",
    "num_activations = 0\n",
    "for layer in model.layers:\n",
    "    num_activations += layer.output_shape[1] * layer.output_shape[2] * layer.output_shape[3]\n",
    "    \n",
    "print('num activations: ', num_activations)\n",
    "\n",
    "model.summary()"
   ]
  },
  {
   "cell_type": "code",
   "execution_count": null,
   "metadata": {
    "collapsed": true
   },
   "outputs": [],
   "source": [
    "X_val = get_validation_images()\n",
    "Y_val = get_validation_masks()"
   ]
  },
  {
   "cell_type": "code",
   "execution_count": null,
   "metadata": {
    "collapsed": true
   },
   "outputs": [],
   "source": [
    "train_model(model)"
   ]
  },
  {
   "cell_type": "code",
   "execution_count": null,
   "metadata": {
    "collapsed": true
   },
   "outputs": [],
   "source": [
    "make_predictions(model)"
   ]
  },
  {
   "cell_type": "code",
   "execution_count": null,
   "metadata": {
    "collapsed": true
   },
   "outputs": [],
   "source": [
    "import pandas as pd\n",
    "from my_constants import *\n",
    "import make_single_blob\n",
    "from data_utils import *\n",
    "from tqdm import tqdm_notebook as tqdm\n",
    "\n",
    "with open(OUTPUT_FILE, 'w') as output_file:\n",
    "    for row in tqdm(df.itertuples()):\n",
    "        rle = encode_prediction(make_single_blob.make_single_blob(decode_prediction(row.rle_mask)))\n",
    "        img_id = row.img\n",
    "        \n",
    "        output_file.write('%s,%s\\n' % (img_id, rle))"
   ]
  },
  {
   "cell_type": "code",
   "execution_count": null,
   "metadata": {
    "collapsed": true
   },
   "outputs": [],
   "source": [
    "from matplotlib import pyplot as plt\n",
    "\n",
    "def view_mask(mask, img_id='Mask'):\n",
    "    plt.title(img_id)\n",
    "    plt.imshow(mask)\n",
    "    plt.show()\n",
    "\n",
    "mask = decode_prediction(df.iloc[1,1])\n",
    "view_mask(mask, df.iloc[1,0])"
   ]
  },
  {
   "cell_type": "code",
   "execution_count": null,
   "metadata": {
    "collapsed": true
   },
   "outputs": [],
   "source": [
    "CONFIG_FILE = \n",
    "\n",
    "def parse_line(line):\n",
    "    pos_eq = line.find('=')\n",
    "    pos_hash = line.find('#')\n",
    "\n",
    "    if pos_eq == -1:\n",
    "        return None\n",
    "    if pos_hash == -1:\n",
    "        pos_hash = len(line)\n",
    "    if pos_eq > pos_hash:\n",
    "        return None\n",
    "\n",
    "    name = line[:pos_eq].strip()\n",
    "    value = line[pos_eq+1:pos_hash].strip()\n",
    "\n",
    "    return (name, value)\n",
    "\n",
    "nv_tuple = parse_line('pos1-ionoopt       =brdc       # (0:off,1:brdc,2:sbas,3:dual-freq,4:est-stec,5:ionex-tec,6:qzs-brdc,7:qzs-lex,8:stec)')\n",
    "print(nv_tuple, 'hmm')"
   ]
  },
  {
   "cell_type": "code",
   "execution_count": null,
   "metadata": {
    "collapsed": true
   },
   "outputs": [],
   "source": [
    "a = {'key':3}\n",
    "'key' in a"
   ]
  }
 ],
 "metadata": {
  "kernelspec": {
   "display_name": "Python 3",
   "language": "python",
   "name": "python3"
  },
  "language_info": {
   "codemirror_mode": {
    "name": "ipython",
    "version": 3
   },
   "file_extension": ".py",
   "mimetype": "text/x-python",
   "name": "python",
   "nbconvert_exporter": "python",
   "pygments_lexer": "ipython3",
   "version": "3.5.2"
  }
 },
 "nbformat": 4,
 "nbformat_minor": 2
}
