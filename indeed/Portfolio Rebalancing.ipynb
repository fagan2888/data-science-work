{
 "cells": [
  {
   "cell_type": "code",
   "execution_count": 20,
   "metadata": {
    "collapsed": false
   },
   "outputs": [
    {
     "name": "stdout",
     "output_type": "stream",
     "text": [
      "[8179.5, 8192.3794174443592, 8190.8384669421748]\n"
     ]
    }
   ],
   "source": [
    "import pandas as pd\n",
    "\n",
    "portfolio = pd.read_csv('data-input/portfolio.csv')\n",
    "stocks_closing_prices = pd.read_csv('data-input/stocks_closing_prices.csv')\n",
    "index_closing_prices = pd.read_csv('data-input/index_closing_prices.csv')\n",
    "stocks_info = pd.read_csv('data-input/stocks_info.csv')\n",
    "\n",
    "num_stocks = len(stocks_info)\n",
    "    \n",
    "# calculate index constituent weights of stocks on day 0-2\n",
    "total_market_cap = [0,0,0]\n",
    "stock_prices = [[], [], []]\n",
    "stock_market_caps = [[], [], []]\n",
    "constituent_weights = [[], [], []]\n",
    "\n",
    "for i in range(num_stocks):\n",
    "    stock_prices[0].append(stocks_closing_prices.ix[i, \"Day_0\"])\n",
    "    stock_prices[1].append(stocks_closing_prices.ix[i, \"Day_1\"])\n",
    "    stock_prices[2].append(stocks_closing_prices.ix[i, \"Day_2\"])\n",
    "    \n",
    "    stock_market_caps[0].append(stock_prices[0][i] * stocks_info.ix[i, \"Free Float Equity Shares\"])\n",
    "    stock_market_caps[1].append(stock_prices[1][i] * stocks_info.ix[i, \"Free Float Equity Shares\"])\n",
    "    stock_market_caps[2].append(stock_prices[2][i] * stocks_info.ix[i, \"Free Float Equity Shares\"])\n",
    "    \n",
    "    total_market_cap[0] += stock_market_caps[0][i]\n",
    "    total_market_cap[1] += stock_market_caps[1][i]\n",
    "    total_market_cap[2] += stock_market_caps[2][i]\n",
    "    \n",
    "for i in range(num_stocks):\n",
    "    constituent_weights[0].append(stock_market_caps[0][i] / total_market_cap[0])\n",
    "    constituent_weights[1].append(stock_market_caps[1][i] / total_market_cap[1])\n",
    "    constituent_weights[2].append(stock_market_caps[2][i] / total_market_cap[2])\n",
    "\n",
    "index_price = [0, 0, 0]\n",
    "index_price[0] = index_closing_prices.ix[0, \"Closing Price\"]\n",
    "index_price[1] = (1 + ((total_market_cap[1] - total_market_cap[0]) / total_market_cap[0])) * index_price[0]\n",
    "index_price[2] += (1 + ((total_market_cap[2] - total_market_cap[1]) / total_market_cap[1])) * index_price[1]\n",
    "print(index_price)"
   ]
  }
 ],
 "metadata": {
  "anaconda-cloud": {},
  "kernelspec": {
   "display_name": "Python [conda root]",
   "language": "python",
   "name": "conda-root-py"
  },
  "language_info": {
   "codemirror_mode": {
    "name": "ipython",
    "version": 3
   },
   "file_extension": ".py",
   "mimetype": "text/x-python",
   "name": "python",
   "nbconvert_exporter": "python",
   "pygments_lexer": "ipython3",
   "version": "3.5.2"
  }
 },
 "nbformat": 4,
 "nbformat_minor": 1
}
