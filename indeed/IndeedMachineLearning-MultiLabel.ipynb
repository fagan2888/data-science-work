{
 "cells": [
  {
   "cell_type": "code",
   "execution_count": 19,
   "metadata": {
    "collapsed": false,
    "deletable": true,
    "editable": true
   },
   "outputs": [
    {
     "data": {
      "text/html": [
       "<div>\n",
       "<table border=\"1\" class=\"dataframe\">\n",
       "  <thead>\n",
       "    <tr style=\"text-align: right;\">\n",
       "      <th></th>\n",
       "      <th>tags</th>\n",
       "      <th>description</th>\n",
       "    </tr>\n",
       "  </thead>\n",
       "  <tbody>\n",
       "    <tr>\n",
       "      <th>0</th>\n",
       "      <td>licence-needed supervising-job 5-plus-years-ex...</td>\n",
       "      <td>THE COMPANY    Employer is a midstream service...</td>\n",
       "    </tr>\n",
       "    <tr>\n",
       "      <th>1</th>\n",
       "      <td>2-4-years-experience-needed salary full-time-job</td>\n",
       "      <td>ICR Staffing is now accepting resumes for Indu...</td>\n",
       "    </tr>\n",
       "    <tr>\n",
       "      <th>2</th>\n",
       "      <td>part-time-job</td>\n",
       "      <td>This is a great position for the right person....</td>\n",
       "    </tr>\n",
       "    <tr>\n",
       "      <th>3</th>\n",
       "      <td>licence-needed</td>\n",
       "      <td>A large multi-specialty health center is expan...</td>\n",
       "    </tr>\n",
       "    <tr>\n",
       "      <th>4</th>\n",
       "      <td>5-plus-years-experience-needed full-time-job b...</td>\n",
       "      <td>JOB PURPOSE:    The Account Director is respon...</td>\n",
       "    </tr>\n",
       "  </tbody>\n",
       "</table>\n",
       "</div>"
      ],
      "text/plain": [
       "                                                tags  \\\n",
       "0  licence-needed supervising-job 5-plus-years-ex...   \n",
       "1   2-4-years-experience-needed salary full-time-job   \n",
       "2                                      part-time-job   \n",
       "3                                     licence-needed   \n",
       "4  5-plus-years-experience-needed full-time-job b...   \n",
       "\n",
       "                                         description  \n",
       "0  THE COMPANY    Employer is a midstream service...  \n",
       "1  ICR Staffing is now accepting resumes for Indu...  \n",
       "2  This is a great position for the right person....  \n",
       "3  A large multi-specialty health center is expan...  \n",
       "4  JOB PURPOSE:    The Account Director is respon...  "
      ]
     },
     "execution_count": 19,
     "metadata": {},
     "output_type": "execute_result"
    }
   ],
   "source": [
    "import pandas as pd\n",
    "\n",
    "data = pd.read_table('data-input/indeed_ml_dataset/train.tsv')\n",
    "data = data.fillna('')\n",
    "data.head(5)"
   ]
  },
  {
   "cell_type": "code",
   "execution_count": 20,
   "metadata": {
    "collapsed": false,
    "deletable": true,
    "editable": true
   },
   "outputs": [],
   "source": [
    "import numpy as np\n",
    "\n",
    "possible_tags = ['part-time-job', 'full-time-job', 'hourly-wage', 'salary', \n",
    "                 'associate-needed', 'bs-degree-needed', 'ms-or-phd-needed',\n",
    "                 'licence-needed', '1-year-experience-needed', '2-4-years-experience-needed',\n",
    "                 '5-plus-years-experience-needed', 'supervising-job']\n",
    "\n",
    "Y = []\n",
    "for tags_str in data.iloc[:, 0]:\n",
    "    tags = tags_str.split(' ')\n",
    "    \n",
    "    tags_vector = [0] * len(possible_tags)\n",
    "    for idx, possible_tag in enumerate(possible_tags):\n",
    "        if possible_tag in tags:\n",
    "            tags_vector[idx] = 1\n",
    "    Y.append(tags_vector)\n",
    "Y = np.array(Y)"
   ]
  },
  {
   "cell_type": "code",
   "execution_count": 25,
   "metadata": {
    "collapsed": false,
    "deletable": true,
    "editable": true
   },
   "outputs": [],
   "source": [
    "from sklearn.feature_extraction.text import CountVectorizer\n",
    "from nltk.stem.snowball import EnglishStemmer\n",
    "\n",
    "cv = CountVectorizer(stop_words='english', ngram_range=(1,2))\n",
    "\n",
    "stemmer = EnglishStemmer()\n",
    "analyzer = cv.build_analyzer()\n",
    "\n",
    "def stemmed_words(doc):\n",
    "    return (stemmer.stem(w) for w in analyzer(doc))\n",
    "\n",
    "cv.set_params(analyzer=stemmed_words)\n",
    "\n",
    "\n",
    "descriptions = data.iloc[:, 1]\n",
    "X = cv.fit_transform(descriptions)"
   ]
  },
  {
   "cell_type": "code",
   "execution_count": 26,
   "metadata": {
    "collapsed": false,
    "deletable": true,
    "editable": true
   },
   "outputs": [
    {
     "name": "stdout",
     "output_type": "stream",
     "text": [
      "(3500, 366931) (875, 366931) (3500, 12) (875, 12)\n"
     ]
    }
   ],
   "source": [
    "from sklearn.model_selection import train_test_split\n",
    "\n",
    "X_train, X_test, Y_train, Y_test = train_test_split(X, Y, test_size=0.2)\n",
    "print(X_train.shape, X_test.shape, Y_train.shape, Y_test.shape)"
   ]
  },
  {
   "cell_type": "code",
   "execution_count": 29,
   "metadata": {
    "collapsed": false,
    "deletable": true,
    "editable": true
   },
   "outputs": [
    {
     "name": "stdout",
     "output_type": "stream",
     "text": [
      "{}\n"
     ]
    }
   ],
   "source": [
    "# fit model using training data\n",
    "import numpy as np\n",
    "from sklearn.linear_model import LogisticRegression\n",
    "from sklearn.naive_bayes import BernoulliNB\n",
    "from sklearn.neural_network import MLPClassifier\n",
    "from sklearn.svm import SVC\n",
    "from sklearn.ensemble import BaggingClassifier\n",
    "from sklearn.multiclass import OneVsRestClassifier\n",
    "from sklearn.ensemble import AdaBoostClassifier\n",
    "from sklearn.model_selection import GridSearchCV\n",
    "from sklearn.ensemble import VotingClassifier\n",
    "from sklearn.pipeline import Pipeline\n",
    "from sklearn.feature_selection import SelectKBest\n",
    "from sklearn.feature_selection import chi2\n",
    "\n",
    "model = Pipeline([('chi2', SelectKBest(chi2, k=10000)), ('bc', BaggingClassifier(n_estimators=10))])\n",
    "ovr = OneVsRestClassifier(model)\n",
    "\n",
    "parameters = {\n",
    "}\n",
    "labeler = GridSearchCV(ovr, parameters, scoring='f1_micro')\n",
    "labeler.fit(X_train,Y_train)\n",
    "print(labeler.best_params_)"
   ]
  },
  {
   "cell_type": "code",
   "execution_count": 28,
   "metadata": {
    "collapsed": false,
    "deletable": true,
    "editable": true
   },
   "outputs": [
    {
     "name": "stdout",
     "output_type": "stream",
     "text": [
      "(array([ 0.35294118,  0.46892655,  0.57446809,  0.67114094,  0.61290323,\n",
      "        0.77884615,  0.5       ,  0.38983051,  0.42307692,  0.49285714,\n",
      "        0.4527027 ,  0.42346939]), array([ 0.21052632,  0.45355191,  0.66666667,  0.71942446,  0.46341463,\n",
      "        0.92045455,  0.125     ,  0.45098039,  0.171875  ,  0.64485981,\n",
      "        0.57758621,  0.58450704]), array([ 0.26373626,  0.46111111,  0.61714286,  0.69444444,  0.52777778,\n",
      "        0.84375   ,  0.2       ,  0.41818182,  0.24444444,  0.55870445,\n",
      "        0.50757576,  0.49112426]), array([ 57, 183,  81, 139,  41, 176,  24, 102,  64, 214, 116, 142], dtype=int64))\n",
      "(0.53033401499659172, 0.58103061986557136, 0.55452601568068427, None)\n"
     ]
    }
   ],
   "source": [
    "from sklearn.metrics import precision_recall_fscore_support\n",
    "Y_pred = labeler.predict_proba(X_test) >= 0.35\n",
    "print(precision_recall_fscore_support(Y_test, Y_pred))\n",
    "print(precision_recall_fscore_support(Y_test, Y_pred, average='micro'))"
   ]
  },
  {
   "cell_type": "code",
   "execution_count": 34,
   "metadata": {
    "collapsed": false,
    "deletable": true,
    "editable": true
   },
   "outputs": [
    {
     "name": "stdout",
     "output_type": "stream",
     "text": [
      "(2921, 10000)\n"
     ]
    }
   ],
   "source": [
    "targets = pd.read_table('data-input/indeed_ml_dataset/test.tsv')\n",
    "\n",
    "descriptions = targets.iloc[:, 0]\n",
    "X_targets = cv.transform(descriptions)\n",
    "print(X_targets.shape)"
   ]
  },
  {
   "cell_type": "code",
   "execution_count": 35,
   "metadata": {
    "collapsed": false,
    "deletable": true,
    "editable": true
   },
   "outputs": [
    {
     "name": "stdout",
     "output_type": "stream",
     "text": [
      "(2921, 12)\n"
     ]
    }
   ],
   "source": [
    "Y_pred2 = labeler.predict_proba(X_targets) >= 0.375\n",
    "print(Y_pred2.shape)"
   ]
  },
  {
   "cell_type": "code",
   "execution_count": 36,
   "metadata": {
    "collapsed": false,
    "deletable": true,
    "editable": true
   },
   "outputs": [],
   "source": [
    "output_file = open('data-output/tags.tsv', 'w')\n",
    "output_file.write('tags\\n')\n",
    "\n",
    "for tags_vector in Y_pred2:\n",
    "    tags_arr = np.array(possible_tags)[tags_vector.nonzero()]\n",
    "    tags_list = tags_arr.tolist()\n",
    "    output_file.write(' '.join(tags_list) + '\\n')\n",
    "\n",
    "output_file.close()"
   ]
  }
 ],
 "metadata": {
  "anaconda-cloud": {},
  "kernelspec": {
   "display_name": "Python [default]",
   "language": "python",
   "name": "python3"
  },
  "language_info": {
   "codemirror_mode": {
    "name": "ipython",
    "version": 3
   },
   "file_extension": ".py",
   "mimetype": "text/x-python",
   "name": "python",
   "nbconvert_exporter": "python",
   "pygments_lexer": "ipython3",
   "version": "3.5.2"
  }
 },
 "nbformat": 4,
 "nbformat_minor": 1
}
