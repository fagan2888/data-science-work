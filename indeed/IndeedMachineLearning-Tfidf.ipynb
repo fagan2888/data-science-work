{
 "cells": [
  {
   "cell_type": "code",
   "execution_count": 11,
   "metadata": {
    "collapsed": false
   },
   "outputs": [
    {
     "data": {
      "text/html": [
       "<div>\n",
       "<table border=\"1\" class=\"dataframe\">\n",
       "  <thead>\n",
       "    <tr style=\"text-align: right;\">\n",
       "      <th></th>\n",
       "      <th>tags</th>\n",
       "      <th>description</th>\n",
       "    </tr>\n",
       "  </thead>\n",
       "  <tbody>\n",
       "    <tr>\n",
       "      <th>0</th>\n",
       "      <td>licence-needed supervising-job 5-plus-years-ex...</td>\n",
       "      <td>THE COMPANY    Employer is a midstream service...</td>\n",
       "    </tr>\n",
       "    <tr>\n",
       "      <th>1</th>\n",
       "      <td>2-4-years-experience-needed salary full-time-job</td>\n",
       "      <td>ICR Staffing is now accepting resumes for Indu...</td>\n",
       "    </tr>\n",
       "    <tr>\n",
       "      <th>2</th>\n",
       "      <td>part-time-job</td>\n",
       "      <td>This is a great position for the right person....</td>\n",
       "    </tr>\n",
       "    <tr>\n",
       "      <th>3</th>\n",
       "      <td>licence-needed</td>\n",
       "      <td>A large multi-specialty health center is expan...</td>\n",
       "    </tr>\n",
       "    <tr>\n",
       "      <th>4</th>\n",
       "      <td>5-plus-years-experience-needed full-time-job b...</td>\n",
       "      <td>JOB PURPOSE:    The Account Director is respon...</td>\n",
       "    </tr>\n",
       "  </tbody>\n",
       "</table>\n",
       "</div>"
      ],
      "text/plain": [
       "                                                tags  \\\n",
       "0  licence-needed supervising-job 5-plus-years-ex...   \n",
       "1   2-4-years-experience-needed salary full-time-job   \n",
       "2                                      part-time-job   \n",
       "3                                     licence-needed   \n",
       "4  5-plus-years-experience-needed full-time-job b...   \n",
       "\n",
       "                                         description  \n",
       "0  THE COMPANY    Employer is a midstream service...  \n",
       "1  ICR Staffing is now accepting resumes for Indu...  \n",
       "2  This is a great position for the right person....  \n",
       "3  A large multi-specialty health center is expan...  \n",
       "4  JOB PURPOSE:    The Account Director is respon...  "
      ]
     },
     "execution_count": 11,
     "metadata": {},
     "output_type": "execute_result"
    }
   ],
   "source": [
    "import pandas as pd\n",
    "\n",
    "train_df = pd.read_table('data-input/indeed_ml_dataset/train.tsv')\n",
    "train_df = train_df.fillna('')\n",
    "train_df.head(5)"
   ]
  },
  {
   "cell_type": "code",
   "execution_count": 12,
   "metadata": {
    "collapsed": false
   },
   "outputs": [],
   "source": [
    "possible_tags = ['part-time-job', 'full-time-job', 'hourly-wage', 'salary', \n",
    "                 'associate-needed', 'bs-degree-needed', 'ms-or-phd-needed',\n",
    "                 'licence-needed', '1-year-experience-needed', '2-4-years-experience-needed',\n",
    "                 '5-plus-years-experience-needed', 'supervising-job']\n",
    "\n",
    "Y = []\n",
    "for tags_str in train_df.iloc[:, 0]:\n",
    "    tags = tags_str.split(' ')\n",
    "    \n",
    "    tags_vector = [0] * len(possible_tags)\n",
    "    for idx, possible_tag in enumerate(possible_tags):\n",
    "        if possible_tag in tags:\n",
    "            tags_vector[idx] = 1\n",
    "    Y.append(tags_vector)\n",
    "        "
   ]
  },
  {
   "cell_type": "code",
   "execution_count": 13,
   "metadata": {
    "collapsed": false
   },
   "outputs": [],
   "source": [
    "from sklearn.feature_extraction.text import TfidfVectorizer\n",
    "\n",
    "tfidf = TfidfVectorizer(stop_words='english', ngram_range=(1,2))\n",
    "\n",
    "descriptions = train_df.iloc[:, 1]\n",
    "X_train = tfidf.fit_transform(descriptions)"
   ]
  },
  {
   "cell_type": "code",
   "execution_count": 14,
   "metadata": {
    "collapsed": false
   },
   "outputs": [
    {
     "name": "stdout",
     "output_type": "stream",
     "text": [
      "True\n"
     ]
    }
   ],
   "source": [
    "from sklearn.linear_model import LogisticRegression\n",
    "from sklearn.multiclass import OneVsRestClassifier\n",
    "import numpy as np\n",
    "\n",
    "Y = np.array(Y)\n",
    "\n",
    "lr = LogisticRegression()\n",
    "ovr = OneVsRestClassifier(lr)\n",
    "ovr.fit(X_train,Y)\n",
    "print(ovr.multilabel_)"
   ]
  },
  {
   "cell_type": "code",
   "execution_count": 15,
   "metadata": {
    "collapsed": false
   },
   "outputs": [
    {
     "name": "stdout",
     "output_type": "stream",
     "text": [
      "(2921, 408403)\n"
     ]
    }
   ],
   "source": [
    "test_df = pd.read_table('data-input/indeed_ml_dataset/test.tsv')\n",
    "\n",
    "descriptions = test_df.iloc[:, 0]\n",
    "X_test = tfidf.transform(descriptions)\n",
    "print(X_test.shape)"
   ]
  },
  {
   "cell_type": "code",
   "execution_count": 16,
   "metadata": {
    "collapsed": false
   },
   "outputs": [
    {
     "name": "stdout",
     "output_type": "stream",
     "text": [
      "(2921, 12)\n"
     ]
    }
   ],
   "source": [
    "Y_pred = ovr.predict(X_test)\n",
    "print(Y_pred.shape)"
   ]
  },
  {
   "cell_type": "code",
   "execution_count": 17,
   "metadata": {
    "collapsed": false
   },
   "outputs": [],
   "source": [
    "output_file = open('data-output/tags.tsv', 'w')\n",
    "output_file.write('tags\\n')\n",
    "\n",
    "for tags_vector in Y_pred:\n",
    "    tags_arr = np.array(possible_tags)[tags_vector.nonzero()]\n",
    "    tags_list = tags_arr.tolist()\n",
    "    output_file.write(' '.join(tags_list) + '\\n')\n",
    "\n",
    "output_file.close()"
   ]
  }
 ],
 "metadata": {
  "anaconda-cloud": {},
  "kernelspec": {
   "display_name": "Python [default]",
   "language": "python",
   "name": "python3"
  },
  "language_info": {
   "codemirror_mode": {
    "name": "ipython",
    "version": 3
   },
   "file_extension": ".py",
   "mimetype": "text/x-python",
   "name": "python",
   "nbconvert_exporter": "python",
   "pygments_lexer": "ipython3",
   "version": "3.5.2"
  }
 },
 "nbformat": 4,
 "nbformat_minor": 1
}
