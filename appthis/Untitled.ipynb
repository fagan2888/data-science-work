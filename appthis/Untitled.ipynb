{
 "cells": [
  {
   "cell_type": "code",
   "execution_count": 3,
   "metadata": {},
   "outputs": [
    {
     "name": "stdout",
     "output_type": "stream",
     "text": [
      "                                                                     event\n",
      "click_passed_javascript                                                  0\n",
      "conversion                                                               0\n",
      "createdOn                                              2017-03-07T08:15:40\n",
      "eventType                                                {'name': 'click'}\n",
      "id                                    13040031-0762-45c2-ac88-78192a1d6f93\n",
      "offers                   [{'id': 602995, 'attributes': {'networkAverage...\n",
      "placement                {'id': '90269fac-3a23-11e6-8be6-0cc47a44dbaa',...\n",
      "placementOffer           {'id': '2457|602995', 'attributes': {'publishe...\n",
      "user                     {'id': 0, 'attributes': {'user_agent': 'Mozill...\n"
     ]
    }
   ],
   "source": [
    "# get dataframe\n",
    "import pandas as pd\n",
    "\n",
    "df = pd.read_json('training_data/data.json')\n",
    "print(df)"
   ]
  }
 ],
 "metadata": {
  "kernelspec": {
   "display_name": "Python 3",
   "language": "python",
   "name": "python3"
  },
  "language_info": {
   "codemirror_mode": {
    "name": "ipython",
    "version": 3
   },
   "file_extension": ".py",
   "mimetype": "text/x-python",
   "name": "python",
   "nbconvert_exporter": "python",
   "pygments_lexer": "ipython3",
   "version": "3.4.3"
  }
 },
 "nbformat": 4,
 "nbformat_minor": 2
}
