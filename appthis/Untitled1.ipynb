{
 "cells": [
  {
   "cell_type": "code",
   "execution_count": 1,
   "metadata": {
    "collapsed": true
   },
   "outputs": [],
   "source": [
    "import tarfile\n",
    "import json\n",
    "import pandas as pd\n",
    "from pandas.io.json import json_normalize\n",
    "\n",
    "# read in training data\n",
    "TRAIN_TAR = 'training_data.tgz'\n",
    "train_archive = tarfile.open(TRAIN_TAR, 'r:gz')\n",
    "\n",
    "train_example_list = []\n",
    "for member in train_archive:\n",
    "    member_file = train_archive.extractfile(member)\n",
    "    for example in member_file:\n",
    "        example_dict = json.loads(example.decode('utf-8'))\n",
    "        train_example_list.append(example_dict)\n",
    "\n",
    "train_df = json_normalize(train_example_list)\n",
    "train_archive.close()\n",
    "\n",
    "y_train = train_df.loc[:, 'event.conversion']\n",
    "X_train = train_df.drop('event.conversion', axis=1).set_index('event.id')\n",
    "\n",
    "# read in test data\n",
    "TEST_TAR = 'all_test_data.tgz'\n",
    "test_archive = tarfile.open(TRAIN_TAR, 'r:gz')\n",
    "\n",
    "test_example_list = []\n",
    "for member in train_archive:\n",
    "    member_file = test_archive.extractfile(member)\n",
    "    for example in member_file:\n",
    "        example_dict = json.loads(example.decode('utf-8'))\n",
    "        test_example_list.append(example_dict)\n",
    "\n",
    "test_df = json_normalize(test_example_list)\n",
    "test_archive.close()\n",
    "\n",
    "y_test = pd.read_csv('test_labels.txt', sep=' ', index_col=0)\n",
    "X_test = test_df.drop('event.conversion', axis=1).set_index('event.id')"
   ]
  },
  {
   "cell_type": "code",
   "execution_count": 2,
   "metadata": {
    "collapsed": true
   },
   "outputs": [],
   "source": [
    "import numpy as np\n",
    "\n",
    "# select desired features\n",
    "num_features = [\n",
    "    'event.placement.attributes.publisherCvr7Days', \n",
    "    'event.placement.attributes.publisherForensiqTraffic', \n",
    "    'event.placement.attributes.publisherMargin',\n",
    "    'event.placement.attributes.publisherQualityScoreAverage3Weeks',\n",
    "    'event.user.attributes.local_minutes_since_midnight'\n",
    "]\n",
    "\n",
    "cat_features = [\n",
    "    'event.user.attributes.browser_family',\n",
    "    'event.user.attributes.country_code',\n",
    "    'event.user.attributes.ip_isp',\n",
    "    'event.user.attributes.ip_connection_type',\n",
    "    'event.user.attributes.language',\n",
    "    'event.user.attributes.local_day_of_month',\n",
    "    'event.user.attributes.local_day_of_week',\n",
    "    'event.user.attributes.local_timezone',\n",
    "    'event.user.attributes.os_family',\n",
    "]\n",
    "\n",
    "X_train_num = X_train[num_features]\n",
    "X_train_cat = pd.get_dummies(X_train[cat_features], columns=cat_features)\n",
    "X_train_selected = pd.concat([X_train_num, X_train_cat], axis=1)\n",
    "\n",
    "X_test_num = X_test[num_features]\n",
    "X_test_cat = pd.get_dummies(X_test[cat_features], columns=cat_features)\n",
    "X_test_selected = pd.concat([X_test_num, X_test_cat], axis=1)\n",
    "\n",
    "# replace missing value identifier so it can play well with sklearn\n",
    "X_train_selected = X_train_selected.replace('\\\\N', np.nan)\n",
    "X_test_selected = X_test_selected.replace('\\\\N', np.nan)"
   ]
  },
  {
   "cell_type": "code",
   "execution_count": 3,
   "metadata": {},
   "outputs": [
    {
     "data": {
      "text/plain": [
       "Pipeline(steps=[('imputation', Imputer(axis=0, copy=True, missing_values='NaN', strategy='mean', verbose=0)), ('scaling', StandardScaler(copy=True, with_mean=True, with_std=True)), ('model', DecisionTreeClassifier(class_weight=None, criterion='gini', max_depth=None,\n",
       "            max_features=None, max_leaf_nodes=None,\n",
       "            min_impurity_split=1e-07, min_samples_leaf=1,\n",
       "            min_samples_split=2, min_weight_fraction_leaf=0.0,\n",
       "            presort=False, random_state=None, splitter='best'))])"
      ]
     },
     "execution_count": 3,
     "metadata": {},
     "output_type": "execute_result"
    }
   ],
   "source": [
    "from sklearn.preprocessing import Imputer\n",
    "from sklearn.preprocessing import StandardScaler\n",
    "from sklearn.tree import DecisionTreeClassifier\n",
    "from sklearn.pipeline import Pipeline\n",
    "\n",
    "imputer = Imputer()\n",
    "scaler = StandardScaler()\n",
    "model = DecisionTreeClassifier()\n",
    "\n",
    "pipeline = Pipeline([('imputation', imputer), ('scaling', scaler), ('model', model)])\n",
    "pipeline.fit(X_train_selected, y_train)"
   ]
  },
  {
   "cell_type": "code",
   "execution_count": 4,
   "metadata": {},
   "outputs": [
    {
     "name": "stdout",
     "output_type": "stream",
     "text": [
      "Index(['56158bed-0a23-40e1-bcda-1a87179b97a6',\n",
      "       '9834ebc1-78e0-4a48-a42f-be9d2d5604b8',\n",
      "       'a26c21bc-b950-4ea7-ab67-4437b13e88cb',\n",
      "       '0dfbaa00-546c-471f-a43c-4a3fa0b9bd44',\n",
      "       'fcf0216f-af9b-4bad-896f-b733584759c5',\n",
      "       'a475b673-0ef1-492e-9a4b-8745f5c46d09',\n",
      "       '312f5171-a021-49f7-88d4-ead5c716571d',\n",
      "       '3a7a37be-aafe-453d-99a2-31a20639201a',\n",
      "       '541bb777-1420-428d-92bb-8cf4f80731c2',\n",
      "       '1f41b8e3-f1e4-4f7e-af1f-788e19e63e83',\n",
      "       ...\n",
      "       '26309552-dc87-48c7-8f1b-9cec46f4f8eb',\n",
      "       '0847d5bf-4559-4730-9197-04e0ad46f6da',\n",
      "       '1d0f1bee-5814-4231-ab8e-14b58832fbda',\n",
      "       'f12b8ab3-4c10-4f94-8391-53baf1c1f8b0',\n",
      "       '0a89e9fb-b43e-4205-8c2c-df4c51094f8b',\n",
      "       '1532bbca-4c63-4894-a370-e21b75570fbe',\n",
      "       'e3ec022d-9f69-41fc-8748-58c2b7b7d7ff',\n",
      "       '48a36aaa-2018-4348-a610-0cc6cc8c2c41',\n",
      "       '42b99fe0-7cc8-42a5-9cc9-64d36346f33a',\n",
      "       'a5ed85d4-ce24-4526-b975-1127bdbf7dbc'],\n",
      "      dtype='object', name='event.id', length=26800)\n"
     ]
    },
    {
     "ename": "ValueError",
     "evalue": "Found input variables with inconsistent numbers of samples: [75999, 0]",
     "output_type": "error",
     "traceback": [
      "\u001b[0;31m---------------------------------------------------------------------------\u001b[0m",
      "\u001b[0;31mValueError\u001b[0m                                Traceback (most recent call last)",
      "\u001b[0;32m<ipython-input-4-8fd6d6b48d5e>\u001b[0m in \u001b[0;36m<module>\u001b[0;34m()\u001b[0m\n\u001b[1;32m      9\u001b[0m         \u001b[0mordered_predictions\u001b[0m\u001b[0;34m.\u001b[0m\u001b[0mappend\u001b[0m\u001b[0;34m(\u001b[0m\u001b[0my_predict\u001b[0m\u001b[0;34m[\u001b[0m\u001b[0midx\u001b[0m\u001b[0;34m]\u001b[0m\u001b[0;34m)\u001b[0m\u001b[0;34m\u001b[0m\u001b[0m\n\u001b[1;32m     10\u001b[0m \u001b[0;34m\u001b[0m\u001b[0m\n\u001b[0;32m---> 11\u001b[0;31m \u001b[0mroc_auc_score\u001b[0m\u001b[0;34m(\u001b[0m\u001b[0my_test\u001b[0m\u001b[0;34m,\u001b[0m \u001b[0mordered_predictions\u001b[0m\u001b[0;34m)\u001b[0m\u001b[0;34m\u001b[0m\u001b[0m\n\u001b[0m",
      "\u001b[0;32m/usr/local/lib/python3.5/dist-packages/sklearn/metrics/ranking.py\u001b[0m in \u001b[0;36mroc_auc_score\u001b[0;34m(y_true, y_score, average, sample_weight)\u001b[0m\n\u001b[1;32m    258\u001b[0m     return _average_binary_score(\n\u001b[1;32m    259\u001b[0m         \u001b[0m_binary_roc_auc_score\u001b[0m\u001b[0;34m,\u001b[0m \u001b[0my_true\u001b[0m\u001b[0;34m,\u001b[0m \u001b[0my_score\u001b[0m\u001b[0;34m,\u001b[0m \u001b[0maverage\u001b[0m\u001b[0;34m,\u001b[0m\u001b[0;34m\u001b[0m\u001b[0m\n\u001b[0;32m--> 260\u001b[0;31m         sample_weight=sample_weight)\n\u001b[0m\u001b[1;32m    261\u001b[0m \u001b[0;34m\u001b[0m\u001b[0m\n\u001b[1;32m    262\u001b[0m \u001b[0;34m\u001b[0m\u001b[0m\n",
      "\u001b[0;32m/usr/local/lib/python3.5/dist-packages/sklearn/metrics/base.py\u001b[0m in \u001b[0;36m_average_binary_score\u001b[0;34m(binary_metric, y_true, y_score, average, sample_weight)\u001b[0m\n\u001b[1;32m     82\u001b[0m \u001b[0;34m\u001b[0m\u001b[0m\n\u001b[1;32m     83\u001b[0m     \u001b[0;32mif\u001b[0m \u001b[0my_type\u001b[0m \u001b[0;34m==\u001b[0m \u001b[0;34m\"binary\"\u001b[0m\u001b[0;34m:\u001b[0m\u001b[0;34m\u001b[0m\u001b[0m\n\u001b[0;32m---> 84\u001b[0;31m         \u001b[0;32mreturn\u001b[0m \u001b[0mbinary_metric\u001b[0m\u001b[0;34m(\u001b[0m\u001b[0my_true\u001b[0m\u001b[0;34m,\u001b[0m \u001b[0my_score\u001b[0m\u001b[0;34m,\u001b[0m \u001b[0msample_weight\u001b[0m\u001b[0;34m=\u001b[0m\u001b[0msample_weight\u001b[0m\u001b[0;34m)\u001b[0m\u001b[0;34m\u001b[0m\u001b[0m\n\u001b[0m\u001b[1;32m     85\u001b[0m \u001b[0;34m\u001b[0m\u001b[0m\n\u001b[1;32m     86\u001b[0m     \u001b[0mcheck_consistent_length\u001b[0m\u001b[0;34m(\u001b[0m\u001b[0my_true\u001b[0m\u001b[0;34m,\u001b[0m \u001b[0my_score\u001b[0m\u001b[0;34m,\u001b[0m \u001b[0msample_weight\u001b[0m\u001b[0;34m)\u001b[0m\u001b[0;34m\u001b[0m\u001b[0m\n",
      "\u001b[0;32m/usr/local/lib/python3.5/dist-packages/sklearn/metrics/ranking.py\u001b[0m in \u001b[0;36m_binary_roc_auc_score\u001b[0;34m(y_true, y_score, sample_weight)\u001b[0m\n\u001b[1;32m    253\u001b[0m \u001b[0;34m\u001b[0m\u001b[0m\n\u001b[1;32m    254\u001b[0m         fpr, tpr, tresholds = roc_curve(y_true, y_score,\n\u001b[0;32m--> 255\u001b[0;31m                                         sample_weight=sample_weight)\n\u001b[0m\u001b[1;32m    256\u001b[0m         \u001b[0;32mreturn\u001b[0m \u001b[0mauc\u001b[0m\u001b[0;34m(\u001b[0m\u001b[0mfpr\u001b[0m\u001b[0;34m,\u001b[0m \u001b[0mtpr\u001b[0m\u001b[0;34m,\u001b[0m \u001b[0mreorder\u001b[0m\u001b[0;34m=\u001b[0m\u001b[0;32mTrue\u001b[0m\u001b[0;34m)\u001b[0m\u001b[0;34m\u001b[0m\u001b[0m\n\u001b[1;32m    257\u001b[0m \u001b[0;34m\u001b[0m\u001b[0m\n",
      "\u001b[0;32m/usr/local/lib/python3.5/dist-packages/sklearn/metrics/ranking.py\u001b[0m in \u001b[0;36mroc_curve\u001b[0;34m(y_true, y_score, pos_label, sample_weight, drop_intermediate)\u001b[0m\n\u001b[1;32m    503\u001b[0m     \"\"\"\n\u001b[1;32m    504\u001b[0m     fps, tps, thresholds = _binary_clf_curve(\n\u001b[0;32m--> 505\u001b[0;31m         y_true, y_score, pos_label=pos_label, sample_weight=sample_weight)\n\u001b[0m\u001b[1;32m    506\u001b[0m \u001b[0;34m\u001b[0m\u001b[0m\n\u001b[1;32m    507\u001b[0m     \u001b[0;31m# Attempt to drop thresholds corresponding to points in between and\u001b[0m\u001b[0;34m\u001b[0m\u001b[0;34m\u001b[0m\u001b[0m\n",
      "\u001b[0;32m/usr/local/lib/python3.5/dist-packages/sklearn/metrics/ranking.py\u001b[0m in \u001b[0;36m_binary_clf_curve\u001b[0;34m(y_true, y_score, pos_label, sample_weight)\u001b[0m\n\u001b[1;32m    295\u001b[0m         \u001b[0mDecreasing\u001b[0m \u001b[0mscore\u001b[0m \u001b[0mvalues\u001b[0m\u001b[0;34m.\u001b[0m\u001b[0;34m\u001b[0m\u001b[0m\n\u001b[1;32m    296\u001b[0m     \"\"\"\n\u001b[0;32m--> 297\u001b[0;31m     \u001b[0mcheck_consistent_length\u001b[0m\u001b[0;34m(\u001b[0m\u001b[0my_true\u001b[0m\u001b[0;34m,\u001b[0m \u001b[0my_score\u001b[0m\u001b[0;34m)\u001b[0m\u001b[0;34m\u001b[0m\u001b[0m\n\u001b[0m\u001b[1;32m    298\u001b[0m     \u001b[0my_true\u001b[0m \u001b[0;34m=\u001b[0m \u001b[0mcolumn_or_1d\u001b[0m\u001b[0;34m(\u001b[0m\u001b[0my_true\u001b[0m\u001b[0;34m)\u001b[0m\u001b[0;34m\u001b[0m\u001b[0m\n\u001b[1;32m    299\u001b[0m     \u001b[0my_score\u001b[0m \u001b[0;34m=\u001b[0m \u001b[0mcolumn_or_1d\u001b[0m\u001b[0;34m(\u001b[0m\u001b[0my_score\u001b[0m\u001b[0;34m)\u001b[0m\u001b[0;34m\u001b[0m\u001b[0m\n",
      "\u001b[0;32m/usr/local/lib/python3.5/dist-packages/sklearn/utils/validation.py\u001b[0m in \u001b[0;36mcheck_consistent_length\u001b[0;34m(*arrays)\u001b[0m\n\u001b[1;32m    179\u001b[0m     \u001b[0;32mif\u001b[0m \u001b[0mlen\u001b[0m\u001b[0;34m(\u001b[0m\u001b[0muniques\u001b[0m\u001b[0;34m)\u001b[0m \u001b[0;34m>\u001b[0m \u001b[0;36m1\u001b[0m\u001b[0;34m:\u001b[0m\u001b[0;34m\u001b[0m\u001b[0m\n\u001b[1;32m    180\u001b[0m         raise ValueError(\"Found input variables with inconsistent numbers of\"\n\u001b[0;32m--> 181\u001b[0;31m                          \" samples: %r\" % [int(l) for l in lengths])\n\u001b[0m\u001b[1;32m    182\u001b[0m \u001b[0;34m\u001b[0m\u001b[0m\n\u001b[1;32m    183\u001b[0m \u001b[0;34m\u001b[0m\u001b[0m\n",
      "\u001b[0;31mValueError\u001b[0m: Found input variables with inconsistent numbers of samples: [75999, 0]"
     ]
    }
   ],
   "source": [
    "from sklearn.metrics import roc_auc_score\n",
    "\n",
    "#y_predict = pipeline.predict(X_test_selected)\n",
    "print(X_test.index)\n",
    "ordered_predictions = []\n",
    "for sample_id in y_test.index.values:\n",
    "    idx = np.nonzero(X_test.index.values == sample_id)[0]\n",
    "    if len(idx) > 0:\n",
    "        ordered_predictions.append(y_predict[idx])\n",
    "    \n",
    "roc_auc_score(y_test, ordered_predictions)"
   ]
  },
  {
   "cell_type": "code",
   "execution_count": 6,
   "metadata": {},
   "outputs": [
    {
     "name": "stdout",
     "output_type": "stream",
     "text": [
      "0\n"
     ]
    }
   ],
   "source": [
    "print(len(ordered_predictions))"
   ]
  }
 ],
 "metadata": {
  "kernelspec": {
   "display_name": "Python 3",
   "language": "python",
   "name": "python3"
  },
  "language_info": {
   "codemirror_mode": {
    "name": "ipython",
    "version": 3
   },
   "file_extension": ".py",
   "mimetype": "text/x-python",
   "name": "python",
   "nbconvert_exporter": "python",
   "pygments_lexer": "ipython3",
   "version": "3.5.2"
  }
 },
 "nbformat": 4,
 "nbformat_minor": 2
}
