{
 "cells": [
  {
   "cell_type": "code",
   "execution_count": 38,
   "metadata": {},
   "outputs": [
    {
     "name": "stdout",
     "output_type": "stream",
     "text": [
      "(2919, 245) (1460, 245) (1460,) (1459, 245)\n"
     ]
    }
   ],
   "source": [
    "import pandas as pd\n",
    "import numpy as np\n",
    "import matplotlib.pyplot as plt\n",
    "\n",
    "# obtain data\n",
    "local_df = pd.read_csv('data/train.csv', index_col=0)\n",
    "competition_df = pd.read_csv('data/test.csv', index_col=0)\n",
    "\n",
    "# remove salesprice from local_df\n",
    "y_local = local_df.loc[:, 'SalePrice']\n",
    "local_df = local_df.drop('SalePrice', axis=1)\n",
    "\n",
    "# combine data sets and then impute\n",
    "local_df = pd.get_dummies(local_df, drop_first=True)\n",
    "competition_df = pd.get_dummies(competition_df, drop_first=True)\n",
    "X_all = pd.concat([local_df, competition_df])\n",
    "X_all = X_all.fillna(X_all.mean())\n",
    "\n",
    "# obtain highly correlated features from train df\n",
    "features = local_df.corrwith(y_local).abs().sort_values(ascending=False).iloc[:].index.values\n",
    "\n",
    "# constrain to highly correlated features\n",
    "X_all = X_all.loc[:, features]\n",
    "\n",
    "# split data into oringal sets\n",
    "X_local = X_all.iloc[:1460]\n",
    "X_competition = X_all.iloc[1460:]\n",
    "\n",
    "# convert dataframes/series to ndarrays\n",
    "X_local = X_local.values\n",
    "y_local = y_local.values\n",
    "\n",
    "# perform log transformation on y_values\n",
    "y_local = np.log(y_local)\n",
    "\n",
    "# print shapes\n",
    "print(X_all.shape, X_local.shape, y_local.shape, X_competition.shape)"
   ]
  },
  {
   "cell_type": "code",
   "execution_count": 34,
   "metadata": {},
   "outputs": [
    {
     "data": {
      "image/png": "[encoded data removed]",
      "text/plain": [
       "<matplotlib.figure.Figure at 0x7f92047b76d8>"
      ]
     },
     "metadata": {},
     "output_type": "display_data"
    }
   ],
   "source": [
    "import matplotlib.pyplot as plt\n",
    "\n",
    "local_df = pd.read_csv('data/train.csv', index_col=0)\n",
    "\n",
    "def plot_histogram(df, feature_name):\n",
    "    ys = df.loc[:, feature_name]\n",
    "    plt.hist(np.log(ys), 10)\n",
    "    plt.show()\n",
    "    \n",
    "plot_histogram(local_df, \"SalePrice\")"
   ]
  },
  {
   "cell_type": "code",
   "execution_count": 35,
   "metadata": {
    "collapsed": true
   },
   "outputs": [],
   "source": [
    "from sklearn.metrics import make_scorer\n",
    "\n",
    "def rmsle(y, y_pred):\n",
    "    y_pred[y_pred <= 0] = 1\n",
    "    \n",
    "    return np.sqrt(mean_squared_error(np.log(y+1), np.log(y_pred+1)))\n",
    "\n",
    "rmsle_scorer = make_scorer(rmsle, greater_is_better=False)"
   ]
  },
  {
   "cell_type": "code",
   "execution_count": 39,
   "metadata": {},
   "outputs": [
    {
     "name": "stdout",
     "output_type": "stream",
     "text": [
      "(1022, 245) (438, 245) (1022,) (438,)\n"
     ]
    }
   ],
   "source": [
    "from sklearn.linear_model import Lasso\n",
    "from sklearn.linear_model import Ridge\n",
    "from sklearn.model_selection import GridSearchCV\n",
    "from sklearn.linear_model import LinearRegression\n",
    "from sklearn.ensemble import BaggingRegressor\n",
    "from sklearn.ensemble import RandomForestRegressor\n",
    "from sklearn.ensemble import GradientBoostingRegressor\n",
    "from sklearn.tree import DecisionTreeRegressor\n",
    "from sklearn.metrics import mean_squared_error\n",
    "from sklearn.model_selection import train_test_split\n",
    "from sklearn.preprocessing import PolynomialFeatures\n",
    "from sklearn.pipeline import Pipeline\n",
    "from sklearn.preprocessing import StandardScaler\n",
    "from sklearn.svm import SVR\n",
    "from sklearn.svm import LinearSVR\n",
    "\n",
    "# split to train/test\n",
    "X_train,X_test,y_train,y_test = train_test_split(X_local, y_local, test_size=0.3)\n",
    "print(X_train.shape, X_test.shape, y_train.shape, y_test.shape)"
   ]
  },
  {
   "cell_type": "code",
   "execution_count": 40,
   "metadata": {},
   "outputs": [
    {
     "name": "stdout",
     "output_type": "stream",
     "text": [
      "dict_keys(['base_model__epsilon', 'standardizer__copy', 'base_model__tol', 'steps', 'base_model__verbose', 'base_model__max_iter', 'base_model__degree', 'base_model__gamma', 'base_model__shrinking', 'standardizer__with_std', 'base_model', 'base_model__cache_size', 'base_model__kernel', 'standardizer__with_mean', 'base_model__C', 'base_model__coef0', 'standardizer'])\n",
      "SVR(C=1, cache_size=200, coef0=0.0, degree=3, epsilon=0.1, gamma='auto',\n",
      "  kernel='rbf', max_iter=-1, shrinking=True, tol=0.001, verbose=False)\n",
      "<class 'numpy.ndarray'> <class 'numpy.ndarray'>\n",
      "0.177538052393\n"
     ]
    }
   ],
   "source": [
    "base_model = SVR()\n",
    "pipeline = Pipeline([('standardizer', StandardScaler()), ('base_model', base_model)])\n",
    "print(pipeline.get_params().keys())\n",
    "\n",
    "params = { 'base_model__C': [1] }\n",
    "model = GridSearchCV(pipeline, params) \n",
    "model.fit(X_train, y_train)\n",
    "\n",
    "print(model.best_estimator_.named_steps['base_model'])\n",
    "\n",
    "y_test_pred = model.predict(X_test)\n",
    "print(type(y_test_pred), type(y_test))\n",
    "\n",
    "rmse_logs = np.sqrt(mean_squared_error(y_test, y_test_pred))\n",
    "print(rmse_logs)"
   ]
  },
  {
   "cell_type": "code",
   "execution_count": 31,
   "metadata": {},
   "outputs": [
    {
     "name": "stdout",
     "output_type": "stream",
     "text": [
      "<class 'numpy.ndarray'> <class 'numpy.ndarray'>\n",
      "0.146338087681\n"
     ]
    }
   ],
   "source": [
    "from sklearn.tree import export_graphviz\n",
    "\n",
    "params = {}\n",
    "base_model = DecisionTreeRegressor(min_samples_leaf=3)\n",
    "ensemble_model = GradientBoostingRegressor(n_estimators=100)\n",
    "\n",
    "model = GridSearchCV(ensemble_model, params, scoring=rmsle_scorer)\n",
    "model.fit(X_train, y_train)\n",
    "\n",
    "#print(model.best_estimator_.estimators_)\n",
    "\n",
    "y_test_pred = model.predict(X_test)\n",
    "print(type(y_test_pred), type(y_test))\n",
    "\n",
    "rmse_logs = np.sqrt(mean_squared_error(np.log(y_test), np.log(y_test_pred)))\n",
    "print(rmse_logs)"
   ]
  },
  {
   "cell_type": "code",
   "execution_count": 38,
   "metadata": {},
   "outputs": [
    {
     "name": "stdout",
     "output_type": "stream",
     "text": [
      "[-0.10116482 -0.08571823 -0.07617305 -0.07684439 -0.07680183 -0.07623315\n",
      " -0.07580894 -0.07675636 -0.07533192 -0.07049035]\n",
      "[-0.19732366 -0.18089582 -0.17510611 -0.16959578 -0.16727422 -0.16234932\n",
      " -0.16375624 -0.16066616 -0.15900025 -0.16005677]\n",
      "{}\n"
     ]
    },
    {
     "data": {
      "image/png": "[encoded data removed]",
      "text/plain": [
       "<matplotlib.figure.Figure at 0x7f370607cf28>"
      ]
     },
     "metadata": {},
     "output_type": "display_data"
    }
   ],
   "source": [
    "from sklearn.model_selection import learning_curve\n",
    "\n",
    "lc_x, lc_train, lc_test = learning_curve(model, X_local, y_local, cv=3,\n",
    "                                        scoring=rmsle_scorer, train_sizes=np.linspace(0.1,1,10))\n",
    "lc_train_mean = np.mean(lc_train, axis=1)\n",
    "lc_train_std = np.std(lc_train, axis=1)\n",
    "lc_test_mean = np.mean(lc_test, axis=1)\n",
    "lc_test_std = np.std(lc_test, axis=1)\n",
    "\n",
    "print(lc_train_mean)\n",
    "print(lc_test_mean)\n",
    "\n",
    "print(model.best_params_)\n",
    "\n",
    "plt.title('Learning Curve for Linear Regression')\n",
    "plt.ylabel('Custom Loss')\n",
    "plt.xlabel('Training examples')\n",
    "plt.grid(alpha=0.3)\n",
    "\n",
    "plt.fill_between(lc_x, lc_train_mean - lc_train_std, lc_train_mean + lc_train_std, alpha=0.1, color='r')\n",
    "plt.fill_between(lc_x, lc_test_mean - lc_test_std, lc_test_mean + lc_test_std, alpha=0.1, color='g')\n",
    "plt.plot(lc_x, lc_train_mean, 'r-', lc_x, lc_test_mean, 'g-')\n",
    "plt.show()"
   ]
  },
  {
   "cell_type": "code",
   "execution_count": 12,
   "metadata": {},
   "outputs": [
    {
     "name": "stdout",
     "output_type": "stream",
     "text": [
      "<class 'numpy.ndarray'> <class 'pandas.core.frame.DataFrame'>\n",
      "(1459, 125) (1459,)\n",
      "2919\n"
     ]
    }
   ],
   "source": [
    "y_competition_pred = model.predict(X_competition)\n",
    "y_competition_pred = np.exp(y_competition_pred)\n",
    "y_competition_pred[y_competition_pred < 0] = 100000\n",
    "print(type(y_competition_pred), type(X_competition))\n",
    "print(X_competition.shape, y_competition_pred.shape)\n",
    "\n",
    "print(X_competition.index[-1])\n",
    "\n",
    "out = open('data/predictions.csv', 'w')\n",
    "out.write('Id,SalePrice\\n')\n",
    "\n",
    "for i in range(len(y_competition_pred)):\n",
    "    out.write('%d,%f\\n' % (X_competition.index[i], y_competition_pred[i]))\n",
    "\n",
    "out.close()"
   ]
  }
 ],
 "metadata": {
  "anaconda-cloud": {},
  "kernelspec": {
   "display_name": "Python 3",
   "language": "python",
   "name": "python3"
  },
  "language_info": {
   "codemirror_mode": {
    "name": "ipython",
    "version": 3
   },
   "file_extension": ".py",
   "mimetype": "text/x-python",
   "name": "python",
   "nbconvert_exporter": "python",
   "pygments_lexer": "ipython3",
   "version": "3.5.2"
  }
 },
 "nbformat": 4,
 "nbformat_minor": 1
}
