{
 "cells": [
  {
   "cell_type": "code",
   "execution_count": 1,
   "metadata": {},
   "outputs": [
    {
     "name": "stdout",
     "output_type": "stream",
     "text": [
      "{'copy_X': True, 'fit_intercept': True, 'precompute': False, 'tol': 0.0001, 'alpha': 100, 'positive': False, 'warm_start': False, 'random_state': None, 'normalize': False, 'selection': 'cyclic', 'max_iter': 1000}\n",
      "[ 140534.02863333  106383.77816063  105351.97731283  135976.15932416]\n",
      "[]\n"
     ]
    },
    {
     "name": "stderr",
     "output_type": "stream",
     "text": [
      "/usr/local/lib/python3.5/dist-packages/pandas/core/generic.py:5518: RuntimeWarning: invalid value encountered in absolute\n",
      "  return np.abs(self)\n"
     ]
    },
    {
     "data": {
      "text/plain": [
       "0.13567422897886897"
      ]
     },
     "execution_count": 1,
     "metadata": {},
     "output_type": "execute_result"
    }
   ],
   "source": [
    "import pandas as pd\n",
    "import numpy as np\n",
    "from sklearn.preprocessing import StandardScaler\n",
    "from sklearn.linear_model import Ridge\n",
    "from sklearn.linear_model import Lasso\n",
    "from sklearn.metrics import mean_squared_error\n",
    "\n",
    "df = pd.read_csv('data/train.csv', index_col=0)\n",
    "\n",
    "df = pd.get_dummies(df, drop_first=True)\n",
    "df = df.fillna(df.mean())\n",
    "\n",
    "train = df.sample(frac=0.7)\n",
    "test = df.drop(train.index)\n",
    "\n",
    "features = train.corr()['SalePrice'].abs().sort_values(ascending=False).index[0:95]\n",
    "train = train.loc[:, features]\n",
    "test = train.loc[:, features]\n",
    "\n",
    "y_train = train.loc[:, 'SalePrice']\n",
    "X_train = train.drop('SalePrice', axis=1)\n",
    "X_train = (X_train - X_train.mean()) / (X_train.max() - X_train.min())\n",
    "\n",
    "y_test = test.loc[:, 'SalePrice']\n",
    "X_test = test.drop('SalePrice', axis=1)\n",
    "X_test = (X_test - X_test.mean()) / (X_test.max() - X_test.min())\n",
    "\n",
    "\n",
    "model = Lasso(alpha=100)\n",
    "model.fit(X_train, y_train)\n",
    "print(model.get_params())\n",
    "\n",
    "y_pred = model.predict(X_train)\n",
    "y_pred[y_pred < 1] = 1\n",
    "y_log = np.log(y_train)\n",
    "y_pred_log = np.log(y_pred)\n",
    "\n",
    "print(y_pred[1:5])\n",
    "print(y_pred[np.nonzero(y_pred <= 0)])\n",
    "\n",
    "\n",
    "np.sqrt(mean_squared_error(y_log, y_pred_log))"
   ]
  }
 ],
 "metadata": {
  "anaconda-cloud": {},
  "kernelspec": {
   "display_name": "Python 3",
   "language": "python",
   "name": "python3"
  },
  "language_info": {
   "codemirror_mode": {
    "name": "ipython",
    "version": 3
   },
   "file_extension": ".py",
   "mimetype": "text/x-python",
   "name": "python",
   "nbconvert_exporter": "python",
   "pygments_lexer": "ipython3",
   "version": "3.5.2"
  }
 },
 "nbformat": 4,
 "nbformat_minor": 1
}
