{
 "cells": [
  {
   "cell_type": "code",
   "execution_count": null,
   "metadata": {
    "collapsed": true
   },
   "outputs": [],
   "source": [
    "import os\n",
    "import cv2\n",
    "import numpy as np\n",
    "\n",
    "\n",
    "IN_BED_DIR = '/home/jeff/Dropbox/data/persistent_alarm/in_bed'\n",
    "OUT_BED_DIR = '/home/jeff/Dropbox/data/persistent_alarm/not_in_bed'\n",
    "X = None\n",
    "y = None\n",
    "for file in os.listdir(IN_BED_DIR):\n",
    "    file_path = os.path.join(IN_BED_DIR, file)\n",
    "    if not os.path.isfile(file_path):\n",
    "        continue\n",
    "    img = cv2.imread(file_path, cv2.IMREAD_GRAYSCALE)\n",
    "    img = img.reshape(1, img.shape[0], img.shape[1], 1)\n",
    "    if X is None:\n",
    "        X = img\n",
    "        y = np.array([1])\n",
    "    else:\n",
    "        X = np.append(X, img, axis=0)\n",
    "        y = np.append(y, [1], axis=0)\n",
    "for file in os.listdir(OUT_BED_DIR):\n",
    "    file_path = os.path.join(OUT_BED_DIR, file)\n",
    "    if not os.path.isfile(file_path):\n",
    "        continue\n",
    "    img = cv2.imread(file_path, cv2.IMREAD_GRAYSCALE)\n",
    "    img = img.reshape(1, img.shape[0], img.shape[1], 1)\n",
    "    X = np.append(X, img, axis=0)\n",
    "    y = np.append(y, [0], axis=0)\n",
    "\n",
    "print(X.shape)\n",
    "print(y.shape)"
   ]
  },
  {
   "cell_type": "code",
   "execution_count": null,
   "metadata": {
    "collapsed": true
   },
   "outputs": [],
   "source": [
    "from sklearn.model_selection import train_test_split\n",
    "from keras.utils import np_utils\n",
    "\n",
    "X_train, X_test, y_train, y_test = train_test_split(X, y, test_size=0.3)"
   ]
  },
  {
   "cell_type": "code",
   "execution_count": null,
   "metadata": {
    "collapsed": true
   },
   "outputs": [],
   "source": [
    "print(y_train[:2])"
   ]
  },
  {
   "cell_type": "code",
   "execution_count": null,
   "metadata": {
    "collapsed": true
   },
   "outputs": [],
   "source": [
    "import pandas as pd\n",
    "from keras.models import Model\n",
    "from keras.layers import Input, Dense, Dropout, Activation, Flatten\n",
    "from keras.layers.convolutional import Conv2D\n",
    "from keras.layers.pooling import MaxPooling2D\n",
    "from keras.optimizers import SGD\n",
    "\n",
    "# input\n",
    "model_input = Input(shape=(128,171,1))\n",
    "\n",
    "# hidden layers\n",
    "# Block 1\n",
    "x = Conv2D(16, (3, 3), activation='relu', padding='same', name='block1_conv1')(model_input)\n",
    "x = Conv2D(16, (3, 3), activation='relu', padding='same', name='block1_conv2')(x)\n",
    "x = MaxPooling2D((2, 2), strides=(2, 2), name='block1_pool')(x)\n",
    "\n",
    "x = Flatten(name='flatten')(x)\n",
    "x = Dense(100, activation='relu', name='fc1')(x)\n",
    "x = Dense(100, activation='relu', name='fc2')(x)\n",
    "x = Dense(1, name='pre-predictions')(x)\n",
    "x = Activation('sigmoid')(x)\n",
    "\n",
    "sgd = SGD(lr=0.01)\n",
    "model = Model(model_input, x)\n",
    "\n",
    "model.compile(loss='binary_crossentropy', optimizer=sgd, metrics=['accuracy'])\n",
    "model.fit(X_train, y_train, batch_size=32, epochs=10, verbose=1, validation_split=0)"
   ]
  },
  {
   "cell_type": "code",
   "execution_count": null,
   "metadata": {
    "collapsed": true
   },
   "outputs": [],
   "source": [
    "import keras.backend as K\n",
    "import tensorflow as tf\n",
    "\n",
    "# calculate gradients\n",
    "def get_gradients(model):\n",
    "    \"\"\"Return the gradient of every trainable weight in model\n",
    "\n",
    "    Parameters\n",
    "    -----------\n",
    "    model : a keras model instance\n",
    "\n",
    "    First, find all tensors which are trainable in the model. Surprisingly,\n",
    "    `model.trainable_weights` will return tensors for which\n",
    "    trainable=False has been set on their layer (last time I checked), hence the extra check.\n",
    "    Next, get the gradients of the loss with respect to the weights.\n",
    "\n",
    "    \"\"\"\n",
    "    weights = [tensor for tensor in model.trainable_weights]\n",
    "    optimizer = model.optimizer\n",
    "\n",
    "    return optimizer.get_gradients(model.total_loss, weights)\n",
    "\n",
    "\n",
    "gradients = get_gradients(model)\n",
    "sess = tf.Session()\n",
    "sess.run(tf.initialize_all_variables())\n",
    "evaluated_gradients = sess.run()"
   ]
  },
  {
   "cell_type": "code",
   "execution_count": null,
   "metadata": {
    "collapsed": true
   },
   "outputs": [],
   "source": [
    "print(model.predict(X_train[:10]))\n",
    "\n",
    "model2 = Model(inputs=model.input, outputs=model.get_layer('fc2').output)\n",
    "model2.predict(X_train[:10])"
   ]
  }
 ],
 "metadata": {
  "kernelspec": {
   "display_name": "Python 3",
   "language": "python",
   "name": "python3"
  },
  "language_info": {
   "codemirror_mode": {
    "name": "ipython",
    "version": 3
   },
   "file_extension": ".py",
   "mimetype": "text/x-python",
   "name": "python",
   "nbconvert_exporter": "python",
   "pygments_lexer": "ipython3",
   "version": "3.5.3"
  }
 },
 "nbformat": 4,
 "nbformat_minor": 2
}
