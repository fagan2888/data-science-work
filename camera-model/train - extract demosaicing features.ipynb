{
 "cells": [
  {
   "cell_type": "code",
   "execution_count": 1,
   "metadata": {
    "collapsed": true
   },
   "outputs": [],
   "source": [
    "import numpy as np\n",
    "\n",
    "def interp_red(img, i, j):\n",
    "    value = 0\n",
    "    measured = 0\n",
    "    if i % 2 == 1 and j % 2 == 1:\n",
    "        # green2 -- use left and right values\n",
    "        if j >= 1:\n",
    "            value += img[i][j-1][0]\n",
    "            measured += 1\n",
    "        if (j+1) < img.shape[1]:\n",
    "            value += img[i][j+1][0]\n",
    "            measured += 1\n",
    "    if i % 2 == 0 and j % 2 == 0:\n",
    "        # green1 -- use top and bot values\n",
    "        if i >= 1:\n",
    "            value += img[i-1][j][0]\n",
    "            measured += 1\n",
    "        if (i+1) < img.shape[0]:\n",
    "            value += img[i+1][j][0]\n",
    "            measured += 1\n",
    "    else:\n",
    "        # blue -- use all diagonals\n",
    "        if i >= 1 and j >=1:\n",
    "            value += img[i-1][j-1][0]\n",
    "            measured += 1\n",
    "        if i >= 1 and (j+1) < img.shape[1]:\n",
    "            value += img[i-1][j+1][0]\n",
    "            measured += 1\n",
    "        if (i+1) < img.shape[0] and j >= 1:\n",
    "            value += img[i+1][j-1][0]\n",
    "            measured += 1\n",
    "        if (i+1) < img.shape[0] and (j+1) < img.shape[1]:\n",
    "            value += img[i+1][j+1][0]\n",
    "            measured += 1\n",
    "    \n",
    "    img[i][j][0] = value/measured\n",
    "    \n",
    "def interp_blue(img, i, j):\n",
    "    value = 0\n",
    "    measured = 0\n",
    "    if i % 2 == 0 and j % 2 == 0:\n",
    "        # green1 -- use left and right values\n",
    "        if j >= 1:\n",
    "            value += img[i][j-1][2]\n",
    "            measured += 1\n",
    "        if (j+1) < img.shape[1]:\n",
    "            value += img[i][j+1][2]\n",
    "            measured += 1\n",
    "    if i % 2 == 1 and j % 2 == 1:\n",
    "        # green2 -- use top and bot values\n",
    "        if i >= 1:\n",
    "            value += img[i-1][j][2]\n",
    "            measured += 1\n",
    "        if (i+1) < img.shape[0]:\n",
    "            value += img[i+1][j][2]\n",
    "            measured += 1\n",
    "    else:\n",
    "        # red -- use all diagonals\n",
    "        if i >= 1 and j >=1:\n",
    "            value += img[i-1][j-1][2]\n",
    "            measured += 1\n",
    "        if i >= 1 and (j+1) < img.shape[1]:\n",
    "            value += img[i-1][j+1][2]\n",
    "            measured += 1\n",
    "        if (i+1) < img.shape[0] and j >= 1:\n",
    "            value += img[i+1][j-1][2]\n",
    "            measured += 1\n",
    "        if (i+1) < img.shape[0] and (j+1) < img.shape[1]:\n",
    "            value += img[i+1][j+1][2]\n",
    "            measured += 1\n",
    "    \n",
    "    img[i][j][2] = value/measured\n",
    "\n",
    "def interp_green(img, i, j):\n",
    "    value = 0\n",
    "    measured = 0\n",
    "    \n",
    "    if i >= 2:\n",
    "        value += img[i-2][j][1]\n",
    "        measured += 1\n",
    "    if (i+2) < img.shape[0]:\n",
    "        value += img[i+2][j][1]\n",
    "        measured += 1\n",
    "    if j >= 2:\n",
    "        value += img[i][j-2][1]\n",
    "        measured += 1\n",
    "    if (j+2) < img.shape[1]:\n",
    "        value += img[i][j+2][1]\n",
    "        measured += 1\n",
    "        \n",
    "    img[i][j][1] = value/measured\n",
    "\n",
    "def reinterp_bilinear_inefficient(img):\n",
    "    # reinterpolate interpolated points with the bilinear algorithm\n",
    "    # with the assumption of a bayer filter\n",
    "    img = img.copy()\n",
    "    for i in range(img.shape[0]):\n",
    "        for j in range(img.shape[1]):\n",
    "            if (i % 2 == 0 and j % 2 == 0) or (i % 2 == 1 and j % 2 == 1):\n",
    "                # green was measured here\n",
    "                interp_red(img, i, j)\n",
    "                interp_blue(img, i, j)\n",
    "            elif i % 2 == 0 and j % 2 == 1:\n",
    "                # blue was measured here\n",
    "                interp_red(img, i, j)\n",
    "                interp_green(img, i, j)\n",
    "            else:\n",
    "                # red was measured here\n",
    "                interp_green(img, i, j)\n",
    "                interp_blue(img, i, j)\n",
    "    return img\n",
    "\n",
    "def reinterp_bilinear(img):\n",
    "    img = img.astype('uint16').copy()\n",
    "    \n",
    "    red_blue_kernel = np.array([[1,2,1],[2,4,2],[1,2,1]]) / 4\n",
    "    green_kernel = np.array([[0,1,0],[1,4,1],[0,1,0]]) / 4\n",
    "    img[:,:,0] = cv2.filter2D(img[:,:,0], -1, red_blue_kernel)\n",
    "    img[:,:,1] = cv2.filter2D(img[:,:,1], -1, green_kernel)\n",
    "    img[:,:,2] = cv2.filter2D(img[:,:,2], -1, red_blue_kernel)\n",
    "    \n",
    "    return img\n",
    "\n",
    "def reinterp_nearest_neighbor(img):\n",
    "    # reinterpolate interpolated points with the nearest neighbor algorithm\n",
    "    # with the assumption of bayer filter\n",
    "    img = img.copy()\n",
    "    for i in range(0, img.shape[0], 2):\n",
    "        for j in range(0, img.shape[1], 2):\n",
    "            # act in 2x2 squares\n",
    "            \n",
    "            # interpolate red\n",
    "            img[i][j][0] = img[i+1][j][0]\n",
    "            img[i][j+1][0] = img[i+1][j][0]\n",
    "            img[i+1][j+1][0] = img[i+1][j][0]\n",
    "            \n",
    "            # interpolate green\n",
    "            img[i][j+1][1] = img[i][j][1]\n",
    "            img[i+1][j][1] = img[i+1][j+1][1]\n",
    "            \n",
    "            # interpolate blue\n",
    "            img[i][j][2] = img[i][j+1][2]\n",
    "            img[i+1][j][2] = img[i][j+1][2]\n",
    "            img[i+1][j+1][2] = img[i][j+1][2]\n",
    "            \n",
    "    return img\n",
    "\n",
    "def get_error_matrix(original, reinterp):\n",
    "    error_matrix = original - reinterp\n",
    "    error_matrix = error_matrix.astype('int8')\n",
    "    error_matrix = np.divide(error_matrix, 2)\n",
    "    error_matrix = np.around(error_matrix)\n",
    "    error_matrix = np.clip(error_matrix, -3, 3)\n",
    "    error_matrix = error_matrix.astype('int8')\n",
    "    \n",
    "    return error_matrix\n",
    "\n",
    "\n",
    "def resample_bayer(img):\n",
    "    # use only points which were measured exactly\n",
    "    resampled = np.copy(img)\n",
    "    for i in range(resampled.shape[0]):\n",
    "        for j in range(resampled.shape[1]):\n",
    "            if (i % 2 == 0 and j % 2 == 0) or (i % 2 == 1 and j % 2 == 1):\n",
    "                # green was measured here\n",
    "                resampled[i][j][0] = 0\n",
    "                resampled[i][j][2] = 0\n",
    "            elif i % 2 == 0 and j % 2 == 1:\n",
    "                # blue was measured here\n",
    "                resampled[i][j][0] = 0\n",
    "                resampled[i][j][1] = 0\n",
    "            else:\n",
    "                # red was measured here\n",
    "                resampled[i][j][1] = 0\n",
    "                resampled[i][j][2] = 0\n",
    "        \n",
    "    return resampled\n",
    "    \n",
    "def get_intra_cooc_matrix(error_matrix):\n",
    "    cooc = np.zeros((7,7,7))\n",
    "    \n",
    "    for i in range(0, error_matrix.shape[0], 2):\n",
    "        for j in range(0, error_matrix.shape[0], 2):\n",
    "            cooc[error_matrix[i][j][0]+3][error_matrix[i][j+1][0]+3][error_matrix[i+1][j+1][0]+3] += 1\n",
    "    \n",
    "    cooc = np.divide(cooc, (error_matrix.shape[0]/2)*(error_matrix.shape[1]/2))\n",
    "    return cooc\n",
    "\n",
    "def get_inter_cooc_matrix(error_matrix):\n",
    "    cooc1 = np.zeros((7,7,7))\n",
    "    cooc2 = np.zeros((7,7,7))\n",
    "    \n",
    "    for i in range(0, error_matrix.shape[0], 2):\n",
    "        for j in range(0, error_matrix.shape[0], 2):\n",
    "            cooc1[error_matrix[i][j][0]+3][error_matrix[i][j+1][0]+3][error_matrix[i][j+1][1]+3] += 1\n",
    "            \n",
    "    for i in range(1, error_matrix.shape[0], 2):\n",
    "        for j in range(1, error_matrix.shape[0], 2):\n",
    "            cooc2[error_matrix[i][j][0]+3][error_matrix[i-1][j][0]+3][error_matrix[i-1][j][1]+3] += 1\n",
    "    \n",
    "    cooc1 = np.divide(cooc1, (error_matrix.shape[0]/2)*(error_matrix.shape[1]/2))\n",
    "    cooc2 = np.divide(cooc1, (error_matrix.shape[0]/2)*(error_matrix.shape[1]/2))\n",
    "    \n",
    "    return cooc1+cooc2\n",
    "    "
   ]
  },
  {
   "cell_type": "code",
   "execution_count": 9,
   "metadata": {},
   "outputs": [
    {
     "data": {
      "application/vnd.jupyter.widget-view+json": {
       "model_id": "db145fbab86c43aba2ff32eb5c811916"
      }
     },
     "metadata": {},
     "output_type": "display_data"
    },
    {
     "data": {
      "application/vnd.jupyter.widget-view+json": {
       "model_id": "0a6b43a0cfc548dbbfcb4beb9ac1d6a6"
      }
     },
     "metadata": {},
     "output_type": "display_data"
    },
    {
     "name": "stdout",
     "output_type": "stream",
     "text": [
      "\n"
     ]
    },
    {
     "name": "stderr",
     "output_type": "stream",
     "text": [
      "Exception in thread Thread-5:\n",
      "Traceback (most recent call last):\n",
      "  File \"/usr/lib/python3.5/threading.py\", line 914, in _bootstrap_inner\n",
      "    self.run()\n",
      "  File \"/home/jeff/.local/lib/python3.5/site-packages/tqdm/_tqdm.py\", line 144, in run\n",
      "    for instance in self.tqdm_cls._instances:\n",
      "  File \"/usr/lib/python3.5/_weakrefset.py\", line 60, in __iter__\n",
      "    for itemref in self.data:\n",
      "RuntimeError: Set changed size during iteration\n",
      "\n"
     ]
    },
    {
     "data": {
      "application/vnd.jupyter.widget-view+json": {
       "model_id": "4c8a8f60e2264b67ba6cb555e8fe1d88"
      }
     },
     "metadata": {},
     "output_type": "display_data"
    },
    {
     "data": {
      "application/vnd.jupyter.widget-view+json": {
       "model_id": "ccde4488c74748cea435ca93d80074c6"
      }
     },
     "metadata": {},
     "output_type": "display_data"
    },
    {
     "data": {
      "application/vnd.jupyter.widget-view+json": {
       "model_id": "f753ca1813ed494aaecdccfe97ae0bb6"
      }
     },
     "metadata": {},
     "output_type": "display_data"
    },
    {
     "data": {
      "application/vnd.jupyter.widget-view+json": {
       "model_id": "994270bd4b374d76b7fd0b68e4ea4beb"
      }
     },
     "metadata": {},
     "output_type": "display_data"
    },
    {
     "data": {
      "application/vnd.jupyter.widget-view+json": {
       "model_id": "5cdb6483cce84b8b90fcf076c39f04bd"
      }
     },
     "metadata": {},
     "output_type": "display_data"
    },
    {
     "data": {
      "application/vnd.jupyter.widget-view+json": {
       "model_id": "ddb176c164cc40e3b9e4eb2c0ccb454a"
      }
     },
     "metadata": {},
     "output_type": "display_data"
    },
    {
     "data": {
      "application/vnd.jupyter.widget-view+json": {
       "model_id": "5055eac326394046abe952baf180edee"
      }
     },
     "metadata": {},
     "output_type": "display_data"
    },
    {
     "data": {
      "application/vnd.jupyter.widget-view+json": {
       "model_id": "3c522d5fd5784baaa737e4b5b2479fd7"
      }
     },
     "metadata": {},
     "output_type": "display_data"
    },
    {
     "data": {
      "application/vnd.jupyter.widget-view+json": {
       "model_id": "9c3d5ab001c8414695be0dba9f43b1ab"
      }
     },
     "metadata": {},
     "output_type": "display_data"
    },
    {
     "name": "stdout",
     "output_type": "stream",
     "text": [
      "\n"
     ]
    }
   ],
   "source": [
    "# read in training images\n",
    "\n",
    "import cv2\n",
    "import os\n",
    "import math\n",
    "from tqdm import tqdm_notebook as tqdm\n",
    "DATA_DIR = '/home/jeff/Downloads/data/camera-model/'\n",
    "\n",
    "train_dir = os.path.join(DATA_DIR, 'train')\n",
    "X = None\n",
    "for model_dir in tqdm(os.listdir(train_dir)):\n",
    "    full_dir = os.path.join(train_dir, model_dir)\n",
    "    for filename in tqdm(os.listdir(full_dir)):\n",
    "        full_filename = os.path.join(full_dir, filename)\n",
    "        img = cv2.imread(full_filename)\n",
    "        crop = img[(math.floor(img.shape[0]/2)-256):(math.floor(img.shape[0]/2)+256),(math.floor(img.shape[1]/2)-256):(math.floor(img.shape[1]/2)+256)]\n",
    "        resampled = resample_bayer(crop)\n",
    "        reinterp1 = reinterp_nearest_neighbor(resampled)\n",
    "        reinterp2 = reinterp_bilinear(resampled)\n",
    "        error1 = get_error_matrix(crop, reinterp1)\n",
    "        error2 = get_error_matrix(crop, reinterp2)\n",
    "        cooc1_1 = get_intra_cooc_matrix(error1)\n",
    "        cooc1_2 = get_inter_cooc_matrix(error1)\n",
    "        cooc2_1 = get_intra_cooc_matrix(error2)\n",
    "        cooc2_2 = get_intra_cooc_matrix(error2)\n",
    "        \n",
    "        img_features = np.append(model_dir, [cooc1_1, cooc1_2, cooc2_1, cooc2_2])\n",
    "        img_features = np.array([img_features])\n",
    "        if X is None:\n",
    "            X = img_features\n",
    "        else:\n",
    "            X = np.append(X, img_features, axis=0)"
   ]
  },
  {
   "cell_type": "code",
   "execution_count": 13,
   "metadata": {
    "collapsed": true
   },
   "outputs": [],
   "source": [
    "Y = X.copy()"
   ]
  },
  {
   "cell_type": "code",
   "execution_count": 15,
   "metadata": {
    "collapsed": true
   },
   "outputs": [],
   "source": [
    "import pandas as pd\n",
    "\n",
    "df = pd.DataFrame(Y)\n",
    "df.to_csv(os.path.join(DATA_DIR, 'features.csv'), header=False)"
   ]
  },
  {
   "cell_type": "code",
   "execution_count": 16,
   "metadata": {},
   "outputs": [
    {
     "data": {
      "text/plain": [
       "'Samsung-Galaxy-S4'"
      ]
     },
     "execution_count": 16,
     "metadata": {},
     "output_type": "execute_result"
    }
   ],
   "source": [
    "X[0][0]"
   ]
  }
 ],
 "metadata": {
  "kernelspec": {
   "display_name": "Python 3",
   "language": "python",
   "name": "python3"
  },
  "language_info": {
   "codemirror_mode": {
    "name": "ipython",
    "version": 3
   },
   "file_extension": ".py",
   "mimetype": "text/x-python",
   "name": "python",
   "nbconvert_exporter": "python",
   "pygments_lexer": "ipython3",
   "version": "3.5.3"
  }
 },
 "nbformat": 4,
 "nbformat_minor": 2
}
