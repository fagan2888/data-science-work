{
 "cells": [
  {
   "cell_type": "code",
   "execution_count": 95,
   "metadata": {
    "collapsed": true
   },
   "outputs": [],
   "source": [
    "import os\n",
    "import pandas as pd\n",
    "from sklearn.model_selection import train_test_split\n",
    "from sklearn.preprocessing import LabelEncoder\n",
    "\n",
    "DATA_DIR = '/home/jeff/Downloads/data/camera-model/'\n",
    "\n",
    "train_df = pd.read_csv(os.path.join(DATA_DIR, 'features.csv'), header=None)\n",
    "y = train_df.iloc[:, 0].as_matrix()\n",
    "X = train_df.drop(0, axis=1).as_matrix()\n",
    "\n",
    "le = LabelEncoder()\n",
    "Y = le.fit_transform(y)\n",
    "\n",
    "X_train, X_test, Y_train, Y_test = train_test_split(X, Y, test_size=0.3)"
   ]
  },
  {
   "cell_type": "code",
   "execution_count": 96,
   "metadata": {},
   "outputs": [
    {
     "data": {
      "text/plain": [
       "OneVsRestClassifier(estimator=BaggingClassifier(base_estimator=None, bootstrap=True,\n",
       "         bootstrap_features=False, max_features=1.0, max_samples=1.0,\n",
       "         n_estimators=10, n_jobs=1, oob_score=False, random_state=None,\n",
       "         verbose=0, warm_start=False),\n",
       "          n_jobs=1)"
      ]
     },
     "execution_count": 96,
     "metadata": {},
     "output_type": "execute_result"
    }
   ],
   "source": [
    "from sklearn.multiclass import OneVsRestClassifier\n",
    "from sklearn.ensemble import BaggingClassifier\n",
    "\n",
    "estimator = BaggingClassifier()\n",
    "classifier = OneVsRestClassifier(estimator)\n",
    "\n",
    "classifier.fit(X_train, Y_train)"
   ]
  },
  {
   "cell_type": "code",
   "execution_count": 90,
   "metadata": {},
   "outputs": [
    {
     "data": {
      "text/plain": [
       "0.71878787878787875"
      ]
     },
     "execution_count": 90,
     "metadata": {},
     "output_type": "execute_result"
    }
   ],
   "source": [
    "from sklearn.metrics import accuracy_score\n",
    "\n",
    "preds = classifier.predict(X_test)\n",
    "accuracy_score(preds, Y_test)\n"
   ]
  },
  {
   "cell_type": "code",
   "execution_count": 61,
   "metadata": {},
   "outputs": [
    {
     "data": {
      "text/plain": [
       "<matplotlib.axes._subplots.AxesSubplot at 0x7fb5baceac50>"
      ]
     },
     "execution_count": 61,
     "metadata": {},
     "output_type": "execute_result"
    },
    {
     "data": {
      "image/png": "[encoded data removed]",
      "text/plain": [
       "<matplotlib.figure.Figure at 0x7fb5babc03c8>"
      ]
     },
     "metadata": {},
     "output_type": "display_data"
    }
   ],
   "source": [
    "%matplotlib inline\n",
    "\n",
    "from sklearn.metrics import confusion_matrix\n",
    "import seaborn as sn\n",
    "\n",
    "mtx = confusion_matrix(preds, Y_test)\n",
    "sn.heatmap(mtx, annot=True)"
   ]
  },
  {
   "cell_type": "code",
   "execution_count": 59,
   "metadata": {},
   "outputs": [
    {
     "name": "stdout",
     "output_type": "stream",
     "text": [
      "HTC-1-M7: 0.6190476190476191\n",
      "LG-Nexus-5x: 0.6329113924050633\n",
      "Motorola-Droid-Maxx: 0.7183098591549296\n",
      "Motorola-Nexus-6: 0.788235294117647\n",
      "Motorola-X: 0.4426229508196721\n",
      "Samsung-Galaxy-Note3: 0.75\n",
      "Samsung-Galaxy-S4: 0.717948717948718\n",
      "Sony-NEX-7: 0.7777777777777778\n",
      "iPhone-4s: 0.9036144578313253\n",
      "iPhone-6: 0.5317460317460317\n"
     ]
    }
   ],
   "source": [
    "classes = le.classes_.tolist()\n",
    "per_class = [entries[i]/sum(entries) for i,entries in enumerate(mtx)]\n",
    "for i in range(len(classes)):\n",
    "    print('{}: {}'.format(classes[i], per_class[i]))"
   ]
  },
  {
   "cell_type": "code",
   "execution_count": 91,
   "metadata": {},
   "outputs": [],
   "source": [
    "DATA_DIR = '/home/jeff/Downloads/data/camera-model/'\n",
    "\n",
    "test_df = pd.read_csv(os.path.join(DATA_DIR, 'test_features.csv'), header=None)\n",
    "filenames = test_df.iloc[:, 0].as_matrix()\n",
    "X_test = test_df.drop(0, axis=1).as_matrix()"
   ]
  },
  {
   "cell_type": "code",
   "execution_count": 94,
   "metadata": {},
   "outputs": [],
   "source": [
    "preds = classifier.predict(X_test)\n",
    "preds = le.inverse_transform(preds)\n",
    "with open(os.path.join(DATA_DIR, 'results.csv'), 'w') as pred_file:\n",
    "    pred_file.write('fname,camera\\n')\n",
    "    for i in range(len(preds)):\n",
    "        pred_file.write('{},{}\\n'.format(filenames[i], preds[i]))"
   ]
  },
  {
   "cell_type": "code",
   "execution_count": 93,
   "metadata": {},
   "outputs": [
    {
     "data": {
      "text/plain": [
       "array(['HTC-1-M7', 'LG-Nexus-5x', 'Motorola-Droid-Maxx',\n",
       "       'Motorola-Nexus-6', 'Motorola-X', 'Samsung-Galaxy-Note3',\n",
       "       'Samsung-Galaxy-S4', 'Sony-NEX-7', 'iPhone-4s', 'iPhone-6'], dtype=object)"
      ]
     },
     "execution_count": 93,
     "metadata": {},
     "output_type": "execute_result"
    }
   ],
   "source": []
  }
 ],
 "metadata": {
  "kernelspec": {
   "display_name": "Python 3",
   "language": "python",
   "name": "python3"
  },
  "language_info": {
   "codemirror_mode": {
    "name": "ipython",
    "version": 3
   },
   "file_extension": ".py",
   "mimetype": "text/x-python",
   "name": "python",
   "nbconvert_exporter": "python",
   "pygments_lexer": "ipython3",
   "version": "3.5.3"
  }
 },
 "nbformat": 4,
 "nbformat_minor": 2
}
